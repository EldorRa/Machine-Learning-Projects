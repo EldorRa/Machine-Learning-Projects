{
  "nbformat": 4,
  "nbformat_minor": 0,
  "metadata": {
    "colab": {
      "provenance": [],
      "gpuType": "T4"
    },
    "kernelspec": {
      "name": "python3",
      "display_name": "Python 3"
    },
    "language_info": {
      "name": "python"
    },
    "accelerator": "GPU"
  },
  "cells": [
    {
      "cell_type": "code",
      "source": [
        "%pip install -Uq upgini catboost"
      ],
      "metadata": {
        "colab": {
          "base_uri": "https://localhost:8080/"
        },
        "id": "RmRMdmz5vgVp",
        "outputId": "736eb767-7531-46ff-e44a-029701a81e24"
      },
      "execution_count": 2,
      "outputs": [
        {
          "output_type": "stream",
          "name": "stdout",
          "text": [
            "\u001b[2K     \u001b[90m━━━━━━━━━━━━━━━━━━━━━━━━━━━━━━━━━━━━━━━━\u001b[0m \u001b[32m150.6/150.6 kB\u001b[0m \u001b[31m3.9 MB/s\u001b[0m eta \u001b[36m0:00:00\u001b[0m\n",
            "\u001b[2K     \u001b[90m━━━━━━━━━━━━━━━━━━━━━━━━━━━━━━━━━━━━━━━━\u001b[0m \u001b[32m98.7/98.7 MB\u001b[0m \u001b[31m8.7 MB/s\u001b[0m eta \u001b[36m0:00:00\u001b[0m\n",
            "\u001b[2K     \u001b[90m━━━━━━━━━━━━━━━━━━━━━━━━━━━━━━━━━━━━━━━━\u001b[0m \u001b[32m1.7/1.7 MB\u001b[0m \u001b[31m60.3 MB/s\u001b[0m eta \u001b[36m0:00:00\u001b[0m\n",
            "\u001b[2K     \u001b[90m━━━━━━━━━━━━━━━━━━━━━━━━━━━━━━━━━━━━━━━━\u001b[0m \u001b[32m108.3/108.3 kB\u001b[0m \u001b[31m14.2 MB/s\u001b[0m eta \u001b[36m0:00:00\u001b[0m\n",
            "\u001b[?25h  Preparing metadata (setup.py) ... \u001b[?25l\u001b[?25hdone\n",
            "\u001b[2K     \u001b[90m━━━━━━━━━━━━━━━━━━━━━━━━━━━━━━━━━━━━━━━━\u001b[0m \u001b[32m139.4/139.4 kB\u001b[0m \u001b[31m17.1 MB/s\u001b[0m eta \u001b[36m0:00:00\u001b[0m\n",
            "\u001b[2K     \u001b[90m━━━━━━━━━━━━━━━━━━━━━━━━━━━━━━━━━━━━━━━━\u001b[0m \u001b[32m407.7/407.7 kB\u001b[0m \u001b[31m40.1 MB/s\u001b[0m eta \u001b[36m0:00:00\u001b[0m\n",
            "\u001b[2K     \u001b[90m━━━━━━━━━━━━━━━━━━━━━━━━━━━━━━━━━━━━━━━━\u001b[0m \u001b[32m109.3/109.3 kB\u001b[0m \u001b[31m10.0 MB/s\u001b[0m eta \u001b[36m0:00:00\u001b[0m\n",
            "\u001b[2K     \u001b[90m━━━━━━━━━━━━━━━━━━━━━━━━━━━━━━━━━━━━━━━━\u001b[0m \u001b[32m277.6/277.6 kB\u001b[0m \u001b[31m26.3 MB/s\u001b[0m eta \u001b[36m0:00:00\u001b[0m\n",
            "\u001b[2K     \u001b[90m━━━━━━━━━━━━━━━━━━━━━━━━━━━━━━━━━━━━━━━━\u001b[0m \u001b[32m2.8/2.8 MB\u001b[0m \u001b[31m84.6 MB/s\u001b[0m eta \u001b[36m0:00:00\u001b[0m\n",
            "\u001b[2K     \u001b[90m━━━━━━━━━━━━━━━━━━━━━━━━━━━━━━━━━━━━━━━━\u001b[0m \u001b[32m913.9/913.9 kB\u001b[0m \u001b[31m60.5 MB/s\u001b[0m eta \u001b[36m0:00:00\u001b[0m\n",
            "\u001b[?25h  Preparing metadata (setup.py) ... \u001b[?25l\u001b[?25hdone\n",
            "\u001b[2K     \u001b[90m━━━━━━━━━━━━━━━━━━━━━━━━━━━━━━━━━━━━━━━━\u001b[0m \u001b[32m1.6/1.6 MB\u001b[0m \u001b[31m69.9 MB/s\u001b[0m eta \u001b[36m0:00:00\u001b[0m\n",
            "\u001b[2K     \u001b[90m━━━━━━━━━━━━━━━━━━━━━━━━━━━━━━━━━━━━━━━━\u001b[0m \u001b[32m2.3/2.3 MB\u001b[0m \u001b[31m76.3 MB/s\u001b[0m eta \u001b[36m0:00:00\u001b[0m\n",
            "\u001b[2K     \u001b[90m━━━━━━━━━━━━━━━━━━━━━━━━━━━━━━━━━━━━━━━━\u001b[0m \u001b[32m1.6/1.6 MB\u001b[0m \u001b[31m75.8 MB/s\u001b[0m eta \u001b[36m0:00:00\u001b[0m\n",
            "\u001b[2K     \u001b[90m━━━━━━━━━━━━━━━━━━━━━━━━━━━━━━━━━━━━━━━━\u001b[0m \u001b[32m105.0/105.0 kB\u001b[0m \u001b[31m11.8 MB/s\u001b[0m eta \u001b[36m0:00:00\u001b[0m\n",
            "\u001b[2K     \u001b[90m━━━━━━━━━━━━━━━━━━━━━━━━━━━━━━━━━━━━━━━━\u001b[0m \u001b[32m46.2/46.2 kB\u001b[0m \u001b[31m6.1 MB/s\u001b[0m eta \u001b[36m0:00:00\u001b[0m\n",
            "\u001b[2K     \u001b[90m━━━━━━━━━━━━━━━━━━━━━━━━━━━━━━━━━━━━━━━━\u001b[0m \u001b[32m106.8/106.8 kB\u001b[0m \u001b[31m15.1 MB/s\u001b[0m eta \u001b[36m0:00:00\u001b[0m\n",
            "\u001b[2K     \u001b[90m━━━━━━━━━━━━━━━━━━━━━━━━━━━━━━━━━━━━━━━━\u001b[0m \u001b[32m194.6/194.6 kB\u001b[0m \u001b[31m26.8 MB/s\u001b[0m eta \u001b[36m0:00:00\u001b[0m\n",
            "\u001b[2K     \u001b[90m━━━━━━━━━━━━━━━━━━━━━━━━━━━━━━━━━━━━━━━━\u001b[0m \u001b[32m58.1/58.1 kB\u001b[0m \u001b[31m8.1 MB/s\u001b[0m eta \u001b[36m0:00:00\u001b[0m\n",
            "\u001b[?25h  Building wheel for xhtml2pdf (setup.py) ... \u001b[?25l\u001b[?25hdone\n",
            "  Building wheel for svglib (setup.py) ... \u001b[?25l\u001b[?25hdone\n"
          ]
        }
      ]
    },
    {
      "cell_type": "code",
      "source": [
        "import pandas as pd\n",
        "from upgini import FeaturesEnricher, SearchKey\n",
        "from upgini.metadata import CVType\n",
        "from catboost import CatBoostRegressor\n",
        "from catboost.utils import eval_metric"
      ],
      "metadata": {
        "id": "CnYCv8sHHN_I"
      },
      "execution_count": 3,
      "outputs": []
    },
    {
      "cell_type": "code",
      "source": [
        "data = pd.read_csv(\"/content/drive/MyDrive/demand-forecasting-kernels-only/train.csv\")\n",
        "data"
      ],
      "metadata": {
        "colab": {
          "base_uri": "https://localhost:8080/",
          "height": 423
        },
        "id": "Jhx5sSL0IGl1",
        "outputId": "4bb50fc9-3fbf-4fdb-8abd-168ccef97b30"
      },
      "execution_count": 4,
      "outputs": [
        {
          "output_type": "execute_result",
          "data": {
            "text/plain": [
              "              date  store  item  sales\n",
              "0       2013-01-01      1     1     13\n",
              "1       2013-01-02      1     1     11\n",
              "2       2013-01-03      1     1     14\n",
              "3       2013-01-04      1     1     13\n",
              "4       2013-01-05      1     1     10\n",
              "...            ...    ...   ...    ...\n",
              "912995  2017-12-27     10    50     63\n",
              "912996  2017-12-28     10    50     59\n",
              "912997  2017-12-29     10    50     74\n",
              "912998  2017-12-30     10    50     62\n",
              "912999  2017-12-31     10    50     82\n",
              "\n",
              "[913000 rows x 4 columns]"
            ],
            "text/html": [
              "\n",
              "  <div id=\"df-91d40da0-4e4c-4095-851f-e7eec2e84703\" class=\"colab-df-container\">\n",
              "    <div>\n",
              "<style scoped>\n",
              "    .dataframe tbody tr th:only-of-type {\n",
              "        vertical-align: middle;\n",
              "    }\n",
              "\n",
              "    .dataframe tbody tr th {\n",
              "        vertical-align: top;\n",
              "    }\n",
              "\n",
              "    .dataframe thead th {\n",
              "        text-align: right;\n",
              "    }\n",
              "</style>\n",
              "<table border=\"1\" class=\"dataframe\">\n",
              "  <thead>\n",
              "    <tr style=\"text-align: right;\">\n",
              "      <th></th>\n",
              "      <th>date</th>\n",
              "      <th>store</th>\n",
              "      <th>item</th>\n",
              "      <th>sales</th>\n",
              "    </tr>\n",
              "  </thead>\n",
              "  <tbody>\n",
              "    <tr>\n",
              "      <th>0</th>\n",
              "      <td>2013-01-01</td>\n",
              "      <td>1</td>\n",
              "      <td>1</td>\n",
              "      <td>13</td>\n",
              "    </tr>\n",
              "    <tr>\n",
              "      <th>1</th>\n",
              "      <td>2013-01-02</td>\n",
              "      <td>1</td>\n",
              "      <td>1</td>\n",
              "      <td>11</td>\n",
              "    </tr>\n",
              "    <tr>\n",
              "      <th>2</th>\n",
              "      <td>2013-01-03</td>\n",
              "      <td>1</td>\n",
              "      <td>1</td>\n",
              "      <td>14</td>\n",
              "    </tr>\n",
              "    <tr>\n",
              "      <th>3</th>\n",
              "      <td>2013-01-04</td>\n",
              "      <td>1</td>\n",
              "      <td>1</td>\n",
              "      <td>13</td>\n",
              "    </tr>\n",
              "    <tr>\n",
              "      <th>4</th>\n",
              "      <td>2013-01-05</td>\n",
              "      <td>1</td>\n",
              "      <td>1</td>\n",
              "      <td>10</td>\n",
              "    </tr>\n",
              "    <tr>\n",
              "      <th>...</th>\n",
              "      <td>...</td>\n",
              "      <td>...</td>\n",
              "      <td>...</td>\n",
              "      <td>...</td>\n",
              "    </tr>\n",
              "    <tr>\n",
              "      <th>912995</th>\n",
              "      <td>2017-12-27</td>\n",
              "      <td>10</td>\n",
              "      <td>50</td>\n",
              "      <td>63</td>\n",
              "    </tr>\n",
              "    <tr>\n",
              "      <th>912996</th>\n",
              "      <td>2017-12-28</td>\n",
              "      <td>10</td>\n",
              "      <td>50</td>\n",
              "      <td>59</td>\n",
              "    </tr>\n",
              "    <tr>\n",
              "      <th>912997</th>\n",
              "      <td>2017-12-29</td>\n",
              "      <td>10</td>\n",
              "      <td>50</td>\n",
              "      <td>74</td>\n",
              "    </tr>\n",
              "    <tr>\n",
              "      <th>912998</th>\n",
              "      <td>2017-12-30</td>\n",
              "      <td>10</td>\n",
              "      <td>50</td>\n",
              "      <td>62</td>\n",
              "    </tr>\n",
              "    <tr>\n",
              "      <th>912999</th>\n",
              "      <td>2017-12-31</td>\n",
              "      <td>10</td>\n",
              "      <td>50</td>\n",
              "      <td>82</td>\n",
              "    </tr>\n",
              "  </tbody>\n",
              "</table>\n",
              "<p>913000 rows × 4 columns</p>\n",
              "</div>\n",
              "    <div class=\"colab-df-buttons\">\n",
              "\n",
              "  <div class=\"colab-df-container\">\n",
              "    <button class=\"colab-df-convert\" onclick=\"convertToInteractive('df-91d40da0-4e4c-4095-851f-e7eec2e84703')\"\n",
              "            title=\"Convert this dataframe to an interactive table.\"\n",
              "            style=\"display:none;\">\n",
              "\n",
              "  <svg xmlns=\"http://www.w3.org/2000/svg\" height=\"24px\" viewBox=\"0 -960 960 960\">\n",
              "    <path d=\"M120-120v-720h720v720H120Zm60-500h600v-160H180v160Zm220 220h160v-160H400v160Zm0 220h160v-160H400v160ZM180-400h160v-160H180v160Zm440 0h160v-160H620v160ZM180-180h160v-160H180v160Zm440 0h160v-160H620v160Z\"/>\n",
              "  </svg>\n",
              "    </button>\n",
              "\n",
              "  <style>\n",
              "    .colab-df-container {\n",
              "      display:flex;\n",
              "      gap: 12px;\n",
              "    }\n",
              "\n",
              "    .colab-df-convert {\n",
              "      background-color: #E8F0FE;\n",
              "      border: none;\n",
              "      border-radius: 50%;\n",
              "      cursor: pointer;\n",
              "      display: none;\n",
              "      fill: #1967D2;\n",
              "      height: 32px;\n",
              "      padding: 0 0 0 0;\n",
              "      width: 32px;\n",
              "    }\n",
              "\n",
              "    .colab-df-convert:hover {\n",
              "      background-color: #E2EBFA;\n",
              "      box-shadow: 0px 1px 2px rgba(60, 64, 67, 0.3), 0px 1px 3px 1px rgba(60, 64, 67, 0.15);\n",
              "      fill: #174EA6;\n",
              "    }\n",
              "\n",
              "    .colab-df-buttons div {\n",
              "      margin-bottom: 4px;\n",
              "    }\n",
              "\n",
              "    [theme=dark] .colab-df-convert {\n",
              "      background-color: #3B4455;\n",
              "      fill: #D2E3FC;\n",
              "    }\n",
              "\n",
              "    [theme=dark] .colab-df-convert:hover {\n",
              "      background-color: #434B5C;\n",
              "      box-shadow: 0px 1px 3px 1px rgba(0, 0, 0, 0.15);\n",
              "      filter: drop-shadow(0px 1px 2px rgba(0, 0, 0, 0.3));\n",
              "      fill: #FFFFFF;\n",
              "    }\n",
              "  </style>\n",
              "\n",
              "    <script>\n",
              "      const buttonEl =\n",
              "        document.querySelector('#df-91d40da0-4e4c-4095-851f-e7eec2e84703 button.colab-df-convert');\n",
              "      buttonEl.style.display =\n",
              "        google.colab.kernel.accessAllowed ? 'block' : 'none';\n",
              "\n",
              "      async function convertToInteractive(key) {\n",
              "        const element = document.querySelector('#df-91d40da0-4e4c-4095-851f-e7eec2e84703');\n",
              "        const dataTable =\n",
              "          await google.colab.kernel.invokeFunction('convertToInteractive',\n",
              "                                                    [key], {});\n",
              "        if (!dataTable) return;\n",
              "\n",
              "        const docLinkHtml = 'Like what you see? Visit the ' +\n",
              "          '<a target=\"_blank\" href=https://colab.research.google.com/notebooks/data_table.ipynb>data table notebook</a>'\n",
              "          + ' to learn more about interactive tables.';\n",
              "        element.innerHTML = '';\n",
              "        dataTable['output_type'] = 'display_data';\n",
              "        await google.colab.output.renderOutput(dataTable, element);\n",
              "        const docLink = document.createElement('div');\n",
              "        docLink.innerHTML = docLinkHtml;\n",
              "        element.appendChild(docLink);\n",
              "      }\n",
              "    </script>\n",
              "  </div>\n",
              "\n",
              "\n",
              "<div id=\"df-66a43e71-95cc-4312-961d-91436ad324ab\">\n",
              "  <button class=\"colab-df-quickchart\" onclick=\"quickchart('df-66a43e71-95cc-4312-961d-91436ad324ab')\"\n",
              "            title=\"Suggest charts\"\n",
              "            style=\"display:none;\">\n",
              "\n",
              "<svg xmlns=\"http://www.w3.org/2000/svg\" height=\"24px\"viewBox=\"0 0 24 24\"\n",
              "     width=\"24px\">\n",
              "    <g>\n",
              "        <path d=\"M19 3H5c-1.1 0-2 .9-2 2v14c0 1.1.9 2 2 2h14c1.1 0 2-.9 2-2V5c0-1.1-.9-2-2-2zM9 17H7v-7h2v7zm4 0h-2V7h2v10zm4 0h-2v-4h2v4z\"/>\n",
              "    </g>\n",
              "</svg>\n",
              "  </button>\n",
              "\n",
              "<style>\n",
              "  .colab-df-quickchart {\n",
              "      --bg-color: #E8F0FE;\n",
              "      --fill-color: #1967D2;\n",
              "      --hover-bg-color: #E2EBFA;\n",
              "      --hover-fill-color: #174EA6;\n",
              "      --disabled-fill-color: #AAA;\n",
              "      --disabled-bg-color: #DDD;\n",
              "  }\n",
              "\n",
              "  [theme=dark] .colab-df-quickchart {\n",
              "      --bg-color: #3B4455;\n",
              "      --fill-color: #D2E3FC;\n",
              "      --hover-bg-color: #434B5C;\n",
              "      --hover-fill-color: #FFFFFF;\n",
              "      --disabled-bg-color: #3B4455;\n",
              "      --disabled-fill-color: #666;\n",
              "  }\n",
              "\n",
              "  .colab-df-quickchart {\n",
              "    background-color: var(--bg-color);\n",
              "    border: none;\n",
              "    border-radius: 50%;\n",
              "    cursor: pointer;\n",
              "    display: none;\n",
              "    fill: var(--fill-color);\n",
              "    height: 32px;\n",
              "    padding: 0;\n",
              "    width: 32px;\n",
              "  }\n",
              "\n",
              "  .colab-df-quickchart:hover {\n",
              "    background-color: var(--hover-bg-color);\n",
              "    box-shadow: 0 1px 2px rgba(60, 64, 67, 0.3), 0 1px 3px 1px rgba(60, 64, 67, 0.15);\n",
              "    fill: var(--button-hover-fill-color);\n",
              "  }\n",
              "\n",
              "  .colab-df-quickchart-complete:disabled,\n",
              "  .colab-df-quickchart-complete:disabled:hover {\n",
              "    background-color: var(--disabled-bg-color);\n",
              "    fill: var(--disabled-fill-color);\n",
              "    box-shadow: none;\n",
              "  }\n",
              "\n",
              "  .colab-df-spinner {\n",
              "    border: 2px solid var(--fill-color);\n",
              "    border-color: transparent;\n",
              "    border-bottom-color: var(--fill-color);\n",
              "    animation:\n",
              "      spin 1s steps(1) infinite;\n",
              "  }\n",
              "\n",
              "  @keyframes spin {\n",
              "    0% {\n",
              "      border-color: transparent;\n",
              "      border-bottom-color: var(--fill-color);\n",
              "      border-left-color: var(--fill-color);\n",
              "    }\n",
              "    20% {\n",
              "      border-color: transparent;\n",
              "      border-left-color: var(--fill-color);\n",
              "      border-top-color: var(--fill-color);\n",
              "    }\n",
              "    30% {\n",
              "      border-color: transparent;\n",
              "      border-left-color: var(--fill-color);\n",
              "      border-top-color: var(--fill-color);\n",
              "      border-right-color: var(--fill-color);\n",
              "    }\n",
              "    40% {\n",
              "      border-color: transparent;\n",
              "      border-right-color: var(--fill-color);\n",
              "      border-top-color: var(--fill-color);\n",
              "    }\n",
              "    60% {\n",
              "      border-color: transparent;\n",
              "      border-right-color: var(--fill-color);\n",
              "    }\n",
              "    80% {\n",
              "      border-color: transparent;\n",
              "      border-right-color: var(--fill-color);\n",
              "      border-bottom-color: var(--fill-color);\n",
              "    }\n",
              "    90% {\n",
              "      border-color: transparent;\n",
              "      border-bottom-color: var(--fill-color);\n",
              "    }\n",
              "  }\n",
              "</style>\n",
              "\n",
              "  <script>\n",
              "    async function quickchart(key) {\n",
              "      const quickchartButtonEl =\n",
              "        document.querySelector('#' + key + ' button');\n",
              "      quickchartButtonEl.disabled = true;  // To prevent multiple clicks.\n",
              "      quickchartButtonEl.classList.add('colab-df-spinner');\n",
              "      try {\n",
              "        const charts = await google.colab.kernel.invokeFunction(\n",
              "            'suggestCharts', [key], {});\n",
              "      } catch (error) {\n",
              "        console.error('Error during call to suggestCharts:', error);\n",
              "      }\n",
              "      quickchartButtonEl.classList.remove('colab-df-spinner');\n",
              "      quickchartButtonEl.classList.add('colab-df-quickchart-complete');\n",
              "    }\n",
              "    (() => {\n",
              "      let quickchartButtonEl =\n",
              "        document.querySelector('#df-66a43e71-95cc-4312-961d-91436ad324ab button');\n",
              "      quickchartButtonEl.style.display =\n",
              "        google.colab.kernel.accessAllowed ? 'block' : 'none';\n",
              "    })();\n",
              "  </script>\n",
              "</div>\n",
              "    </div>\n",
              "  </div>\n"
            ]
          },
          "metadata": {},
          "execution_count": 4
        }
      ]
    },
    {
      "cell_type": "code",
      "source": [
        "data.info()"
      ],
      "metadata": {
        "colab": {
          "base_uri": "https://localhost:8080/"
        },
        "id": "jvLMJNDOIRNe",
        "outputId": "43319bc1-c19a-42b6-9b25-d8dd9c82420a"
      },
      "execution_count": 5,
      "outputs": [
        {
          "output_type": "stream",
          "name": "stdout",
          "text": [
            "<class 'pandas.core.frame.DataFrame'>\n",
            "RangeIndex: 913000 entries, 0 to 912999\n",
            "Data columns (total 4 columns):\n",
            " #   Column  Non-Null Count   Dtype \n",
            "---  ------  --------------   ----- \n",
            " 0   date    913000 non-null  object\n",
            " 1   store   913000 non-null  int64 \n",
            " 2   item    913000 non-null  int64 \n",
            " 3   sales   913000 non-null  int64 \n",
            "dtypes: int64(3), object(1)\n",
            "memory usage: 27.9+ MB\n"
          ]
        }
      ]
    },
    {
      "cell_type": "code",
      "source": [
        "#Changing the datatype of store and item columns to string\n",
        "data[\"store\"] = data[\"store\"].astype(str)\n",
        "data[\"item\"] = data[\"item\"].astype(str)"
      ],
      "metadata": {
        "id": "sGeZvB-WIUDn"
      },
      "execution_count": 6,
      "outputs": []
    },
    {
      "cell_type": "code",
      "source": [
        "#Changing the datatype of date to datetime\n",
        "data[\"date\"] = pd.to_datetime(data[\"date\"])"
      ],
      "metadata": {
        "id": "jq1MjRPxIqPM"
      },
      "execution_count": 7,
      "outputs": []
    },
    {
      "cell_type": "code",
      "source": [
        "data.info()"
      ],
      "metadata": {
        "colab": {
          "base_uri": "https://localhost:8080/"
        },
        "id": "eCMuequfJQT3",
        "outputId": "98385a39-a82c-49c1-80c7-854d23638ca4"
      },
      "execution_count": 8,
      "outputs": [
        {
          "output_type": "stream",
          "name": "stdout",
          "text": [
            "<class 'pandas.core.frame.DataFrame'>\n",
            "RangeIndex: 913000 entries, 0 to 912999\n",
            "Data columns (total 4 columns):\n",
            " #   Column  Non-Null Count   Dtype         \n",
            "---  ------  --------------   -----         \n",
            " 0   date    913000 non-null  datetime64[ns]\n",
            " 1   store   913000 non-null  object        \n",
            " 2   item    913000 non-null  object        \n",
            " 3   sales   913000 non-null  int64         \n",
            "dtypes: datetime64[ns](1), int64(1), object(2)\n",
            "memory usage: 27.9+ MB\n"
          ]
        }
      ]
    },
    {
      "cell_type": "code",
      "source": [
        "#Next step is it generate data from dataset using sample\n",
        "data = data.sample(n=10_000, random_state = 42)"
      ],
      "metadata": {
        "id": "P88w3qkiJufm"
      },
      "execution_count": 9,
      "outputs": []
    },
    {
      "cell_type": "code",
      "source": [
        "#Sorting the date in the dataset\n",
        "data.sort_values(\"date\", inplace=True)\n",
        "data.reset_index(inplace=True, drop=True)"
      ],
      "metadata": {
        "id": "CYDxVr4zUAZU"
      },
      "execution_count": 10,
      "outputs": []
    },
    {
      "cell_type": "code",
      "source": [
        "train = data[data[\"date\"] < \"2017-01-01\"]\n",
        "test = data[data[\"date\"] >= \"2017-01-01\"]"
      ],
      "metadata": {
        "id": "pEBpUBjwUQKw"
      },
      "execution_count": 11,
      "outputs": []
    },
    {
      "cell_type": "code",
      "source": [
        "train_features = train.drop(columns=[\"sales\"])\n",
        "train_target = train[\"sales\"]\n",
        "test_features = test.drop(columns=[\"sales\"])\n",
        "test_target = test[\"sales\"]"
      ],
      "metadata": {
        "id": "n2jKmG6qWA_C"
      },
      "execution_count": 12,
      "outputs": []
    },
    {
      "cell_type": "code",
      "source": [
        "#Getting additional data by using Upgini and choosing the search key as date\n",
        "enricher = FeaturesEnricher(\n",
        "    search_keys = {\n",
        "        \"date\": SearchKey.DATE,\n",
        "    },\n",
        "    cv = CVType.time_series\n",
        ")\n",
        "enricher.fit(train_features,\n",
        "             train_target,\n",
        "             eval_set=[(test_features, test_target)])"
      ],
      "metadata": {
        "colab": {
          "base_uri": "https://localhost:8080/",
          "height": 1000
        },
        "id": "5i45oIAaWQYO",
        "outputId": "a4ba03fe-f9f7-48f6-bd82-8a680d2ed2e2"
      },
      "execution_count": 13,
      "outputs": [
        {
          "output_type": "display_data",
          "data": {
            "text/plain": [
              "[============================================================] 100% Finished"
            ],
            "text/html": [
              "<progress style='width:60ex' max='100' value='100'></progress>  100% Finished</br>"
            ]
          },
          "metadata": {}
        },
        {
          "output_type": "display_data",
          "data": {
            "text/plain": [
              "<IPython.core.display.Javascript object>"
            ],
            "application/javascript": [
              "\n",
              "                        window.visitorId = import('https://openfpcdn.io/fingerprintjs/v3')\n",
              "                            .then(FingerprintJS => FingerprintJS.load())\n",
              "                            .then(fp => fp.get())\n",
              "                            .then(result => result.visitorId);\n",
              "                    "
            ]
          },
          "metadata": {}
        },
        {
          "output_type": "display_data",
          "data": {
            "text/plain": [
              "<IPython.core.display.Javascript object>"
            ],
            "application/javascript": [
              "\n",
              "                        window.visitorId = import('https://openfpcdn.io/fingerprintjs/v3')\n",
              "                            .then(FingerprintJS => FingerprintJS.load())\n",
              "                            .then(fp => fp.get())\n",
              "                            .then(result => result.visitorId);\n",
              "                    "
            ]
          },
          "metadata": {}
        },
        {
          "output_type": "display_data",
          "data": {
            "text/plain": [
              "<IPython.core.display.Javascript object>"
            ],
            "application/javascript": [
              "\n",
              "                        window.visitorId = import('https://openfpcdn.io/fingerprintjs/v3')\n",
              "                            .then(FingerprintJS => FingerprintJS.load())\n",
              "                            .then(fp => fp.get())\n",
              "                            .then(result => result.visitorId);\n",
              "                    "
            ]
          },
          "metadata": {}
        },
        {
          "output_type": "display_data",
          "data": {
            "text/plain": [
              "<IPython.core.display.Javascript object>"
            ],
            "application/javascript": [
              "\n",
              "                        window.visitorId = import('https://openfpcdn.io/fingerprintjs/v3')\n",
              "                            .then(FingerprintJS => FingerprintJS.load())\n",
              "                            .then(fp => fp.get())\n",
              "                            .then(result => result.visitorId);\n",
              "                    "
            ]
          },
          "metadata": {}
        },
        {
          "output_type": "display_data",
          "data": {
            "text/plain": [
              "<IPython.core.display.Javascript object>"
            ],
            "application/javascript": [
              "\n",
              "                        window.visitorId = import('https://openfpcdn.io/fingerprintjs/v3')\n",
              "                            .then(FingerprintJS => FingerprintJS.load())\n",
              "                            .then(fp => fp.get())\n",
              "                            .then(result => result.visitorId);\n",
              "                    "
            ]
          },
          "metadata": {}
        },
        {
          "output_type": "display_data",
          "data": {
            "text/plain": [
              "<IPython.core.display.Javascript object>"
            ],
            "application/javascript": [
              "\n",
              "                        window.visitorId = import('https://openfpcdn.io/fingerprintjs/v3')\n",
              "                            .then(FingerprintJS => FingerprintJS.load())\n",
              "                            .then(fp => fp.get())\n",
              "                            .then(result => result.visitorId);\n",
              "                    "
            ]
          },
          "metadata": {}
        },
        {
          "output_type": "display_data",
          "data": {
            "text/plain": [
              "<IPython.core.display.Javascript object>"
            ],
            "application/javascript": [
              "\n",
              "                        window.visitorId = import('https://openfpcdn.io/fingerprintjs/v3')\n",
              "                            .then(FingerprintJS => FingerprintJS.load())\n",
              "                            .then(fp => fp.get())\n",
              "                            .then(result => result.visitorId);\n",
              "                    "
            ]
          },
          "metadata": {}
        },
        {
          "output_type": "display_data",
          "data": {
            "text/plain": [
              "<IPython.core.display.Javascript object>"
            ],
            "application/javascript": [
              "\n",
              "                        window.visitorId = import('https://openfpcdn.io/fingerprintjs/v3')\n",
              "                            .then(FingerprintJS => FingerprintJS.load())\n",
              "                            .then(fp => fp.get())\n",
              "                            .then(result => result.visitorId);\n",
              "                    "
            ]
          },
          "metadata": {}
        },
        {
          "output_type": "stream",
          "name": "stdout",
          "text": [
            "\n",
            "WARNING: Search started with DATE search key only\n",
            "Try to add other keys like the COUNTRY, POSTAL_CODE, PHONE NUMBER, EMAIL/HEM, IPv4 to your training dataset\n",
            "for search through all the available data sources.\n",
            "See docs https://github.com/upgini/upgini#-total-239-countries-and-up-to-41-years-of-history\n"
          ]
        },
        {
          "output_type": "display_data",
          "data": {
            "text/plain": [
              "<IPython.core.display.Javascript object>"
            ],
            "application/javascript": [
              "\n",
              "                        window.visitorId = import('https://openfpcdn.io/fingerprintjs/v3')\n",
              "                            .then(FingerprintJS => FingerprintJS.load())\n",
              "                            .then(fp => fp.get())\n",
              "                            .then(result => result.visitorId);\n",
              "                    "
            ]
          },
          "metadata": {}
        },
        {
          "output_type": "display_data",
          "data": {
            "text/plain": [
              "<IPython.core.display.Javascript object>"
            ],
            "application/javascript": [
              "\n",
              "                        window.visitorId = import('https://openfpcdn.io/fingerprintjs/v3')\n",
              "                            .then(FingerprintJS => FingerprintJS.load())\n",
              "                            .then(fp => fp.get())\n",
              "                            .then(result => result.visitorId);\n",
              "                    "
            ]
          },
          "metadata": {}
        },
        {
          "output_type": "stream",
          "name": "stdout",
          "text": [
            "Detected task type: ModelTaskType.REGRESSION\n",
            "\n"
          ]
        },
        {
          "output_type": "display_data",
          "data": {
            "text/plain": [
              "<IPython.core.display.Javascript object>"
            ],
            "application/javascript": [
              "\n",
              "                        window.visitorId = import('https://openfpcdn.io/fingerprintjs/v3')\n",
              "                            .then(FingerprintJS => FingerprintJS.load())\n",
              "                            .then(fp => fp.get())\n",
              "                            .then(result => result.visitorId);\n",
              "                    "
            ]
          },
          "metadata": {}
        },
        {
          "output_type": "display_data",
          "data": {
            "text/plain": [
              "<IPython.core.display.Javascript object>"
            ],
            "application/javascript": [
              "\n",
              "                        window.visitorId = import('https://openfpcdn.io/fingerprintjs/v3')\n",
              "                            .then(FingerprintJS => FingerprintJS.load())\n",
              "                            .then(fp => fp.get())\n",
              "                            .then(result => result.visitorId);\n",
              "                    "
            ]
          },
          "metadata": {}
        },
        {
          "output_type": "display_data",
          "data": {
            "text/plain": [
              "<IPython.core.display.Javascript object>"
            ],
            "application/javascript": [
              "\n",
              "                        window.visitorId = import('https://openfpcdn.io/fingerprintjs/v3')\n",
              "                            .then(FingerprintJS => FingerprintJS.load())\n",
              "                            .then(fp => fp.get())\n",
              "                            .then(result => result.visitorId);\n",
              "                    "
            ]
          },
          "metadata": {}
        },
        {
          "output_type": "display_data",
          "data": {
            "text/plain": [
              "<IPython.core.display.Javascript object>"
            ],
            "application/javascript": [
              "\n",
              "                        window.visitorId = import('https://openfpcdn.io/fingerprintjs/v3')\n",
              "                            .then(FingerprintJS => FingerprintJS.load())\n",
              "                            .then(fp => fp.get())\n",
              "                            .then(result => result.visitorId);\n",
              "                    "
            ]
          },
          "metadata": {}
        },
        {
          "output_type": "display_data",
          "data": {
            "text/plain": [
              "<IPython.core.display.Javascript object>"
            ],
            "application/javascript": [
              "\n",
              "                        window.visitorId = import('https://openfpcdn.io/fingerprintjs/v3')\n",
              "                            .then(FingerprintJS => FingerprintJS.load())\n",
              "                            .then(fp => fp.get())\n",
              "                            .then(result => result.visitorId);\n",
              "                    "
            ]
          },
          "metadata": {}
        },
        {
          "output_type": "display_data",
          "data": {
            "text/plain": [
              "<IPython.core.display.HTML object>"
            ],
            "text/html": [
              "<table><tr><th style='font-weight:bold'>Column name</th><th style='font-weight:bold'>Status</th><th style='font-weight:bold'>Errors</th></tr><tr><td>date</td><td style='background-color:#DAF7A6;color:black'>All valid</td><td>-</td></tr><tr><td>target</td><td style='background-color:#DAF7A6;color:black'>All valid</td><td>-</td></tr></table>"
            ]
          },
          "metadata": {}
        },
        {
          "output_type": "display_data",
          "data": {
            "text/plain": [
              "<IPython.core.display.Javascript object>"
            ],
            "application/javascript": [
              "\n",
              "                        window.visitorId = import('https://openfpcdn.io/fingerprintjs/v3')\n",
              "                            .then(FingerprintJS => FingerprintJS.load())\n",
              "                            .then(fp => fp.get())\n",
              "                            .then(result => result.visitorId);\n",
              "                    "
            ]
          },
          "metadata": {}
        },
        {
          "output_type": "display_data",
          "data": {
            "text/plain": [
              "<IPython.core.display.Javascript object>"
            ],
            "application/javascript": [
              "\n",
              "                        window.visitorId = import('https://openfpcdn.io/fingerprintjs/v3')\n",
              "                            .then(FingerprintJS => FingerprintJS.load())\n",
              "                            .then(fp => fp.get())\n",
              "                            .then(result => result.visitorId);\n",
              "                    "
            ]
          },
          "metadata": {}
        },
        {
          "output_type": "display_data",
          "data": {
            "text/plain": [
              "<IPython.core.display.Javascript object>"
            ],
            "application/javascript": [
              "\n",
              "                            window.clientIP = fetch(\"https://api.ipify.org\")\n",
              "                                .then(response => response.text())\n",
              "                                .then(data => data);\n",
              "                        "
            ]
          },
          "metadata": {}
        },
        {
          "output_type": "display_data",
          "data": {
            "text/plain": [
              "<IPython.core.display.Javascript object>"
            ],
            "application/javascript": [
              "\n",
              "                            window.clientIP = fetch(\"https://api.ipify.org\")\n",
              "                                .then(response => response.text())\n",
              "                                .then(data => data);\n",
              "                        "
            ]
          },
          "metadata": {}
        },
        {
          "output_type": "display_data",
          "data": {
            "text/plain": [
              "<IPython.core.display.Javascript object>"
            ],
            "application/javascript": [
              "\n",
              "                            window.clientIP = fetch(\"https://api.ipify.org\")\n",
              "                                .then(response => response.text())\n",
              "                                .then(data => data);\n",
              "                        "
            ]
          },
          "metadata": {}
        },
        {
          "output_type": "display_data",
          "data": {
            "text/plain": [
              "<IPython.core.display.Javascript object>"
            ],
            "application/javascript": [
              "\n",
              "                            window.clientIP = fetch(\"https://api.ipify.org\")\n",
              "                                .then(response => response.text())\n",
              "                                .then(data => data);\n",
              "                        "
            ]
          },
          "metadata": {}
        },
        {
          "output_type": "display_data",
          "data": {
            "text/plain": [
              "<IPython.core.display.Javascript object>"
            ],
            "application/javascript": [
              "\n",
              "                            window.clientIP = fetch(\"https://api.ipify.org\")\n",
              "                                .then(response => response.text())\n",
              "                                .then(data => data);\n",
              "                        "
            ]
          },
          "metadata": {}
        },
        {
          "output_type": "display_data",
          "data": {
            "text/plain": [
              "<IPython.core.display.Javascript object>"
            ],
            "application/javascript": [
              "\n",
              "                            window.clientIP = fetch(\"https://api.ipify.org\")\n",
              "                                .then(response => response.text())\n",
              "                                .then(data => data);\n",
              "                        "
            ]
          },
          "metadata": {}
        },
        {
          "output_type": "display_data",
          "data": {
            "text/plain": [
              "<IPython.core.display.Javascript object>"
            ],
            "application/javascript": [
              "\n",
              "                            window.clientIP = fetch(\"https://api.ipify.org\")\n",
              "                                .then(response => response.text())\n",
              "                                .then(data => data);\n",
              "                        "
            ]
          },
          "metadata": {}
        },
        {
          "output_type": "display_data",
          "data": {
            "text/plain": [
              "<IPython.core.display.Javascript object>"
            ],
            "application/javascript": [
              "\n",
              "                            window.clientIP = fetch(\"https://api.ipify.org\")\n",
              "                                .then(response => response.text())\n",
              "                                .then(data => data);\n",
              "                        "
            ]
          },
          "metadata": {}
        },
        {
          "output_type": "display_data",
          "data": {
            "text/plain": [
              "<IPython.core.display.Javascript object>"
            ],
            "application/javascript": [
              "\n",
              "                            window.clientIP = fetch(\"https://api.ipify.org\")\n",
              "                                .then(response => response.text())\n",
              "                                .then(data => data);\n",
              "                        "
            ]
          },
          "metadata": {}
        },
        {
          "output_type": "display_data",
          "data": {
            "text/plain": [
              "<IPython.core.display.Javascript object>"
            ],
            "application/javascript": [
              "\n",
              "                            window.clientIP = fetch(\"https://api.ipify.org\")\n",
              "                                .then(response => response.text())\n",
              "                                .then(data => data);\n",
              "                        "
            ]
          },
          "metadata": {}
        },
        {
          "output_type": "display_data",
          "data": {
            "text/plain": [
              "<IPython.core.display.Javascript object>"
            ],
            "application/javascript": [
              "\n",
              "                            window.clientIP = fetch(\"https://api.ipify.org\")\n",
              "                                .then(response => response.text())\n",
              "                                .then(data => data);\n",
              "                        "
            ]
          },
          "metadata": {}
        },
        {
          "output_type": "display_data",
          "data": {
            "text/plain": [
              "<IPython.core.display.Javascript object>"
            ],
            "application/javascript": [
              "\n",
              "                            window.clientIP = fetch(\"https://api.ipify.org\")\n",
              "                                .then(response => response.text())\n",
              "                                .then(data => data);\n",
              "                        "
            ]
          },
          "metadata": {}
        },
        {
          "output_type": "display_data",
          "data": {
            "text/plain": [
              "<IPython.core.display.Javascript object>"
            ],
            "application/javascript": [
              "\n",
              "                            window.clientIP = fetch(\"https://api.ipify.org\")\n",
              "                                .then(response => response.text())\n",
              "                                .then(data => data);\n",
              "                        "
            ]
          },
          "metadata": {}
        },
        {
          "output_type": "display_data",
          "data": {
            "text/plain": [
              "<IPython.core.display.Javascript object>"
            ],
            "application/javascript": [
              "\n",
              "                            window.clientIP = fetch(\"https://api.ipify.org\")\n",
              "                                .then(response => response.text())\n",
              "                                .then(data => data);\n",
              "                        "
            ]
          },
          "metadata": {}
        },
        {
          "output_type": "display_data",
          "data": {
            "text/plain": [
              "<IPython.core.display.Javascript object>"
            ],
            "application/javascript": [
              "\n",
              "                            window.clientIP = fetch(\"https://api.ipify.org\")\n",
              "                                .then(response => response.text())\n",
              "                                .then(data => data);\n",
              "                        "
            ]
          },
          "metadata": {}
        },
        {
          "output_type": "display_data",
          "data": {
            "text/plain": [
              "<IPython.core.display.Javascript object>"
            ],
            "application/javascript": [
              "\n",
              "                            window.clientIP = fetch(\"https://api.ipify.org\")\n",
              "                                .then(response => response.text())\n",
              "                                .then(data => data);\n",
              "                        "
            ]
          },
          "metadata": {}
        },
        {
          "output_type": "display_data",
          "data": {
            "text/plain": [
              "<IPython.core.display.Javascript object>"
            ],
            "application/javascript": [
              "\n",
              "                            window.clientIP = fetch(\"https://api.ipify.org\")\n",
              "                                .then(response => response.text())\n",
              "                                .then(data => data);\n",
              "                        "
            ]
          },
          "metadata": {}
        },
        {
          "output_type": "stream",
          "name": "stdout",
          "text": [
            "\n",
            "Running search request, search_id=fa1d9655-189d-402b-898d-f13d7da28881\n",
            "We'll send email notification once it's completed, just use your personal api_key from profile.upgini.com\n",
            "\n",
            "\u001b[92m\u001b[1m\n",
            "42 relevant feature(s) found with the search keys: ['date']\u001b[0m\n"
          ]
        },
        {
          "output_type": "display_data",
          "data": {
            "text/plain": [
              "<IPython.core.display.HTML object>"
            ],
            "text/html": [
              "<style>\n",
              "            .upgini-df thead th {\n",
              "                font-weight:bold;\n",
              "                text-align: center;\n",
              "                padding: 0.5em;\n",
              "                border-bottom: 2px solid black;\n",
              "            }\n",
              "\n",
              "            .upgini-df tbody td {\n",
              "                padding: 0.5em;\n",
              "            }\n",
              "\n",
              "            .upgini-df tbody tr:nth-child(odd) {\n",
              "                background-color: #ffffff;\n",
              "            }\n",
              "\n",
              "            .upgini-df tbody tr:nth-child(even) {\n",
              "                background-color: #f2f2f2;\n",
              "            }\n",
              "\n",
              "            .upgini-text {\n",
              "                text-align: left;\n",
              "            }\n",
              "\n",
              "            .upgini-number {\n",
              "                text-align: center;\n",
              "            }\n",
              "        </style>\n",
              "        <h2>Relevant features</h2>\n",
              "        <div style=\"display:flex; flex-direction:column; align-items:flex-end; width: fit-content;\">\n",
              "            <div style=\"text-align: right\">\n",
              "                <button onclick=navigator.clipboard.writeText(decodeURI('Feature%20name%09SHAP%20value%09Coverage%20%25%09Value%20preview%09Provider%09Source%09Feature%20type%0Af_autofe_max_1189%090.0705%09100.0%09-0.3817,%200.4674,%200.8521%09Upgini%09AutoFE%3A%20features%20from%20%3Ca%20href%3D%27https%3A%2F%2Fupgini.com%2F%23data_sources%27%20target%3D%27_blank%27%20rel%3D%27noopener%20noreferrer%27%3ECalendar%20data%3C%2Fa%3E%09Free%0Af_weather_date_weather_umap_48_b39cd0c4%090.0203%09100.0%095.1271,%205.6923,%205.7202%09Upgini%09Weather%20%26%20climate%20normals%20data%09Premium%0Af_autofe_max_1147%090.0193%09100.0%090.9093,%200.3123,%200.2261%09Upgini%09AutoFE%3A%20features%20from%20%3Ca%20href%3D%27https%3A%2F%2Fupgini.com%2F%23data_sources%27%20target%3D%27_blank%27%20rel%3D%27noopener%20noreferrer%27%3ECalendar%20data%3C%2Fa%3E%09Free%0Af_events_date_year_cos1_9014a856%090.0157%09100.0%09-0.2345,%20-0.4394,%200.8945%09Upgini%09Calendar%20data%09Free%0Af_autofe_max_1230%090.0154%09100.0%09-0.7325,%200.814,%20-0.9052%09Upgini%09AutoFE%3A%20features%20from%20%3Ca%20href%3D%27https%3A%2F%2Fupgini.com%2F%23data_sources%27%20target%3D%27_blank%27%20rel%3D%27noopener%20noreferrer%27%3ECalendar%20data%3C%2Fa%3E%09Free%0Af_autofe_div_2189%090.0115%09100.0%09-0.0102,%20-0.0196,%200.0186%09Upgini%09AutoFE%3A%20features%20from%20%3Ca%20href%3D%27https%3A%2F%2Fupgini.com%2F%23data_sources%27%20target%3D%27_blank%27%20rel%3D%27noopener%20noreferrer%27%3ECalendar%20data%3C%2Fa%3E,%3Ca%20href%3D%27https%3A%2F%2Fupgini.com%2F%23data_sources%27%20target%3D%27_blank%27%20rel%3D%27noopener%20noreferrer%27%3EMarkets%20data%3C%2Fa%3E%09Free%0Af_weather_date_weather_umap_31_fa6d9a99%090.0114%09100.0%095.1233,%205.6368,%205.1351%09Upgini%09Weather%20%26%20climate%20normals%20data%09Premium%0Af_weather_date_weather_umap_0_1ff14cbf%090.0091%09100.0%097.8864,%204.3034,%203.4168%09Upgini%09Weather%20%26%20climate%20normals%20data%09Premium%0Af_autofe_min_320%090.0042%09100.0%090.02,%20-0.12,%200.09%09Upgini%09AutoFE%3A%20features%20from%20%3Ca%20href%3D%27https%3A%2F%2Fupgini.com%2F%23data_sources%27%20target%3D%27_blank%27%20rel%3D%27noopener%20noreferrer%27%3ECalendar%20data%3C%2Fa%3E,%3Ca%20href%3D%27https%3A%2F%2Fupgini.com%2F%23data_sources%27%20target%3D%27_blank%27%20rel%3D%27noopener%20noreferrer%27%3EMarkets%20data%3C%2Fa%3E%09Free%0Af_autofe_min_372%090.0033%09100.0%090.0772,%20-0.0429,%20-0.8297%09Upgini%09AutoFE%3A%20features%20from%20%3Ca%20href%3D%27https%3A%2F%2Fupgini.com%2F%23data_sources%27%20target%3D%27_blank%27%20rel%3D%27noopener%20noreferrer%27%3ECalendar%20data%3C%2Fa%3E%09Free%0Af_weather_date_weather_umap_16_25ac8b87%090.003%09100.0%095.5807,%205.1994,%206.004%09Upgini%09Weather%20%26%20climate%20normals%20data%09Premium%0Af_autofe_min_286%090.0026%09100.0%09-0.9955,%20-0.9323,%200.6902%09Upgini%09AutoFE%3A%20features%20from%20%3Ca%20href%3D%27https%3A%2F%2Fupgini.com%2F%23data_sources%27%20target%3D%27_blank%27%20rel%3D%27noopener%20noreferrer%27%3ECalendar%20data%3C%2Fa%3E%09Free%0Af_autofe_min_371%090.0024%09100.0%090.0943,%200.1793,%200.1373%09Upgini%09AutoFE%3A%20features%20from%20%3Ca%20href%3D%27https%3A%2F%2Fupgini.com%2F%23data_sources%27%20target%3D%27_blank%27%20rel%3D%27noopener%20noreferrer%27%3ECalendar%20data%3C%2Fa%3E%09Free%0Af_autofe_min_199%090.0023%09100.0%090.0,%20-0.901,%200.0%09Upgini%09AutoFE%3A%20features%20from%20%3Ca%20href%3D%27https%3A%2F%2Fupgini.com%2F%23data_sources%27%20target%3D%27_blank%27%20rel%3D%27noopener%20noreferrer%27%3ECalendar%20data%3C%2Fa%3E%09Free%0Af_autofe_min_308%090.0019%09100.0%090.134,%200.009,%200.057%09Upgini%09AutoFE%3A%20features%20from%20%3Ca%20href%3D%27https%3A%2F%2Fupgini.com%2F%23data_sources%27%20target%3D%27_blank%27%20rel%3D%27noopener%20noreferrer%27%3ECalendar%20data%3C%2Fa%3E,%3Ca%20href%3D%27https%3A%2F%2Fupgini.com%2F%23data_sources%27%20target%3D%27_blank%27%20rel%3D%27noopener%20noreferrer%27%3EMarkets%20data%3C%2Fa%3E%09Free%0Af_financial_date_nasdaq_9264860e%090.0018%09100.0%094835.7598,%203919.79,%205306.8501%09Upgini%09Markets%20data%09Free%0Af_weather_date_weather_pca_1_9e4af931%090.0017%09100.0%093.6529,%20-10.7025,%20-10.1659%09Upgini%09Weather%20%26%20climate%20normals%20data%09Premium%0Af_autofe_min_291%090.0012%09100.0%090.7694,%20-0.82,%200.1028%09Upgini%09AutoFE%3A%20features%20from%20%3Ca%20href%3D%27https%3A%2F%2Fupgini.com%2F%23data_sources%27%20target%3D%27_blank%27%20rel%3D%27noopener%20noreferrer%27%3ECalendar%20data%3C%2Fa%3E%09Free%0Af_autofe_div_2199%090.0012%09100.0%091.054,%201.0033,%200.4562%09Upgini%09AutoFE%3A%20features%20from%20%3Ca%20href%3D%27https%3A%2F%2Fupgini.com%2F%23data_sources%27%20target%3D%27_blank%27%20rel%3D%27noopener%20noreferrer%27%3ECalendar%20data%3C%2Fa%3E,%3Ca%20href%3D%27https%3A%2F%2Fupgini.com%2F%23data_sources%27%20target%3D%27_blank%27%20rel%3D%27noopener%20noreferrer%27%3EMarkets%20data%3C%2Fa%3E%09Free%0Af_autofe_min_243%090.0011%09100.0%090.4211,%20-0.2844,%20-0.9991%09Upgini%09AutoFE%3A%20features%20from%20%3Ca%20href%3D%27https%3A%2F%2Fupgini.com%2F%23data_sources%27%20target%3D%27_blank%27%20rel%3D%27noopener%20noreferrer%27%3ECalendar%20data%3C%2Fa%3E%09Free%0Af_autofe_max_1149%090.0009%09100.0%090.9015,%20-0.7441,%200.2959%09Upgini%09AutoFE%3A%20features%20from%20%3Ca%20href%3D%27https%3A%2F%2Fupgini.com%2F%23data_sources%27%20target%3D%27_blank%27%20rel%3D%27noopener%20noreferrer%27%3ECalendar%20data%3C%2Fa%3E%09Free%0Af_weather_date_weather_umap_33_89bb7578%090.0009%09100.0%095.1241,%205.4514,%204.6252%09Upgini%09Weather%20%26%20climate%20normals%20data%09Premium%0Af_autofe_max_1232%090.0008%09100.0%09-0.8438,%20-0.7086,%200.728%09Upgini%09AutoFE%3A%20features%20from%20%3Ca%20href%3D%27https%3A%2F%2Fupgini.com%2F%23data_sources%27%20target%3D%27_blank%27%20rel%3D%27noopener%20noreferrer%27%3ECalendar%20data%3C%2Fa%3E%09Free%0Af_autofe_max_1314%090.0007%09100.0%090.9088,%200.5148,%200.6793%09Upgini%09AutoFE%3A%20features%20from%20%3Ca%20href%3D%27https%3A%2F%2Fupgini.com%2F%23data_sources%27%20target%3D%27_blank%27%20rel%3D%27noopener%20noreferrer%27%3ECalendar%20data%3C%2Fa%3E%09Free%0Af_autofe_max_1894%090.0007%09100.0%091.2331,%201.2936,%201.1755%09Upgini%09AutoFE%3A%20features%20from%20%3Ca%20href%3D%27https%3A%2F%2Fupgini.com%2F%23data_sources%27%20target%3D%27_blank%27%20rel%3D%27noopener%20noreferrer%27%3EMarkets%20data%3C%2Fa%3E%09Free%0Af_autofe_div_2116%090.0006%09100.0%09-0.5556,%20-0.5189,%200.6725%09Upgini%09AutoFE%3A%20features%20from%20%3Ca%20href%3D%27https%3A%2F%2Fupgini.com%2F%23data_sources%27%20target%3D%27_blank%27%20rel%3D%27noopener%20noreferrer%27%3ECalendar%20data%3C%2Fa%3E,%3Ca%20href%3D%27https%3A%2F%2Fupgini.com%2F%23data_sources%27%20target%3D%27_blank%27%20rel%3D%27noopener%20noreferrer%27%3EMarkets%20data%3C%2Fa%3E%09Free%0Af_autofe_min_383%090.0006%09100.0%09-8.71,%20-0.4444,%20-26.2202%09Upgini%09AutoFE%3A%20features%20from%20%3Ca%20href%3D%27https%3A%2F%2Fupgini.com%2F%23data_sources%27%20target%3D%27_blank%27%20rel%3D%27noopener%20noreferrer%27%3ECalendar%20data%3C%2Fa%3E,%3Ca%20href%3D%27https%3A%2F%2Fupgini.com%2F%23data_sources%27%20target%3D%27_blank%27%20rel%3D%27noopener%20noreferrer%27%3EMarkets%20data%3C%2Fa%3E%09Free%0Af_financial_date_crude_oil_7d_to_1y_c3e0ad17%090.0005%09100.0%091.0348,%201.0554,%201.1455%09Upgini%09Markets%20data%09Free%0Af_autofe_max_1239%090.0005%09100.0%090.5794,%200.5161,%200.4925%09Upgini%09AutoFE%3A%20features%20from%20%3Ca%20href%3D%27https%3A%2F%2Fupgini.com%2F%23data_sources%27%20target%3D%27_blank%27%20rel%3D%27noopener%20noreferrer%27%3ECalendar%20data%3C%2Fa%3E%09Free%0Af_weather_date_weather_umap_8_faa85dbb%090.0005%09100.0%097.2191,%203.7907,%205.3984%09Upgini%09Weather%20%26%20climate%20normals%20data%09Premium%0Af_economic_date_cbpol_pca_2_33d6e3fc%090.0005%09100.0%090.2324,%201.5552,%20-1.1619%09Upgini%09World%20economic%20indicators%09Free%0Af_autofe_max_1173%090.0005%09100.0%090.9296,%200.9058,%201.0183%09Upgini%09AutoFE%3A%20features%20from%20%3Ca%20href%3D%27https%3A%2F%2Fupgini.com%2F%23data_sources%27%20target%3D%27_blank%27%20rel%3D%27noopener%20noreferrer%27%3ECalendar%20data%3C%2Fa%3E,%3Ca%20href%3D%27https%3A%2F%2Fupgini.com%2F%23data_sources%27%20target%3D%27_blank%27%20rel%3D%27noopener%20noreferrer%27%3EMarkets%20data%3C%2Fa%3E%09Free%0Af_autofe_max_1277%090.0004%09100.0%090.9128,%20-0.7339,%200.7788%09Upgini%09AutoFE%3A%20features%20from%20%3Ca%20href%3D%27https%3A%2F%2Fupgini.com%2F%23data_sources%27%20target%3D%27_blank%27%20rel%3D%27noopener%20noreferrer%27%3ECalendar%20data%3C%2Fa%3E%09Free%0Af_economic_date_cbpol_pca_9_bde660b4%090.0004%09100.0%09-2.8063,%20-2.4019,%20-2.2438%09Upgini%09World%20economic%20indicators%09Free%0Af_autofe_max_1237%090.0004%09100.0%09-0.4787,%20-0.2135,%200.6744%09Upgini%09AutoFE%3A%20features%20from%20%3Ca%20href%3D%27https%3A%2F%2Fupgini.com%2F%23data_sources%27%20target%3D%27_blank%27%20rel%3D%27noopener%20noreferrer%27%3ECalendar%20data%3C%2Fa%3E%09Free%0Af_weather_date_weather_umap_22_0342ee9e%090.0004%09100.0%095.3259,%204.9461,%204.5571%09Upgini%09Weather%20%26%20climate%20normals%20data%09Premium%0Af_autofe_div_2997%090.0004%09100.0%0938.7063,%2030.1044,%2026.2767%09Upgini%09AutoFE%3A%20features%20from%20%3Ca%20href%3D%27https%3A%2F%2Fupgini.com%2F%23data_sources%27%20target%3D%27_blank%27%20rel%3D%27noopener%20noreferrer%27%3EMarkets%20data%3C%2Fa%3E%09Free%0Af_autofe_min_287%090.0003%09100.0%09-0.9805,%20-0.9963,%20-0.8438%09Upgini%09AutoFE%3A%20features%20from%20%3Ca%20href%3D%27https%3A%2F%2Fupgini.com%2F%23data_sources%27%20target%3D%27_blank%27%20rel%3D%27noopener%20noreferrer%27%3ECalendar%20data%3C%2Fa%3E%09Free%0Af_autofe_div_2728%090.0003%09100.0%091.3468,%200.7703,%200.787%09Upgini%09AutoFE%3A%20features%20from%20%3Ca%20href%3D%27https%3A%2F%2Fupgini.com%2F%23data_sources%27%20target%3D%27_blank%27%20rel%3D%27noopener%20noreferrer%27%3EMarkets%20data%3C%2Fa%3E%09Free%0Af_autofe_min_324%090.0003%09100.0%090.3285,%200.9088,%20-0.0817%09Upgini%09AutoFE%3A%20features%20from%20%3Ca%20href%3D%27https%3A%2F%2Fupgini.com%2F%23data_sources%27%20target%3D%27_blank%27%20rel%3D%27noopener%20noreferrer%27%3ECalendar%20data%3C%2Fa%3E%09Free%0Af_weather_date_weather_umap_44_a0c8c0fe%090.0003%09100.0%095.5815,%205.0243,%205.1501%09Upgini%09Weather%20%26%20climate%20normals%20data%09Premium%0Af_autofe_max_1152%090.0002%09100.0%090.6793,%20-0.8475,%200.6387%09Upgini%09AutoFE%3A%20features%20from%20%3Ca%20href%3D%27https%3A%2F%2Fupgini.com%2F%23data_sources%27%20target%3D%27_blank%27%20rel%3D%27noopener%20noreferrer%27%3ECalendar%20data%3C%2Fa%3E%09Free%0A'))>📂 Copy</button>\n",
              "                <a href='mailto:<Share with...>?subject=Relevant external data sources from Upgini.com&body=Feature%20name%09SHAP%20value%09Coverage%20%25%09Value%20preview%09Provider%09Source%09Feature%20type%0Af_autofe_max_1189%090.0705%09100.0%09-0.3817,%200.4674,%200.8521%09Upgini%09AutoFE%3A%20features%20from%20%3Ca%20href%3D%27https%3A%2F%2Fupgini.com%2F%23data_sources%27%20target%3D%27_blank%27%20rel%3D%27noopener%20noreferrer%27%3ECalendar%20data%3C%2Fa%3E%09Free%0Af_weather_date_weather_umap_48_b39cd0c4%090.0203%09100.0%095.1271,%205.6923,%205.7202%09Upgini%09Weather%20%26%20climate%20normals%20data%09Premium%0Af_autofe_max_1147%090.0193%09100.0%090.9093,%200.3123,%200.2261%09Upgini%09AutoFE%3A%20features%20from%20%3Ca%20href%3D%27https%3A%2F%2Fupgini.com%2F%23data_sources%27%20target%3D%27_blank%27%20rel%3D%27noopener%20noreferrer%27%3ECalendar%20data%3C%2Fa%3E%09Free%0Af_events_date_year_cos1_9014a856%090.0157%09100.0%09-0.2345,%20-0.4394,%200.8945%09Upgini%09Calendar%20data%09Free%0Af_autofe_max_1230%090.0154%09100.0%09-0.7325,%200.814,%20-0.9052%09Upgini%09AutoFE%3A%20features%20from%20%3Ca%20href%3D%27https%3A%2F%2Fupgini.com%2F%23data_sources%27%20target%3D%27_blank%27%20rel%3D%27noopener%20noreferrer%27%3ECalendar%20data%3C%2Fa%3E%09Free%0Af_autofe_div_2189%090.0115%09100.0%09-0.0102,%20-0.0196,%200.0186%09Upgini%09AutoFE%3A%20features%20from%20%3Ca%20href%3D%27https%3A%2F%2Fupgini.com%2F%23data_sources%27%20target%3D%27_blank%27%20rel%3D%27noopener%20noreferrer%27%3ECalendar%20data%3C%2Fa%3E,%3Ca%20href%3D%27https%3A%2F%2Fupgini.com%2F%23data_sources%27%20target%3D%27_blank%27%20rel%3D%27noopener%20noreferrer%27%3EMarkets%20data%3C%2Fa%3E%09Free%0Af_weather_date_weather_umap_31_fa6d9a99%090.0114%09100.0%095.1233,%205.6368,%205.1351%09Upgini%09Weather%20%26%20climate%20normals%20data%09Premium%0Af_weather_date_weather_umap_0_1ff14cbf%090.0091%09100.0%097.8864,%204.3034,%203.4168%09Upgini%09Weather%20%26%20climate%20normals%20data%09Premium%0Af_autofe_min_320%090.0042%09100.0%090.02,%20-0.12,%200.09%09Upgini%09AutoFE%3A%20features%20from%20%3Ca%20href%3D%27https%3A%2F%2Fupgini.com%2F%23data_sources%27%20target%3D%27_blank%27%20rel%3D%27noopener%20noreferrer%27%3ECalendar%20data%3C%2Fa%3E,%3Ca%20href%3D%27https%3A%2F%2Fupgini.com%2F%23data_sources%27%20target%3D%27_blank%27%20rel%3D%27noopener%20noreferrer%27%3EMarkets%20data%3C%2Fa%3E%09Free%0Af_autofe_min_372%090.0033%09100.0%090.0772,%20-0.0429,%20-0.8297%09Upgini%09AutoFE%3A%20features%20from%20%3Ca%20href%3D%27https%3A%2F%2Fupgini.com%2F%23data_sources%27%20target%3D%27_blank%27%20rel%3D%27noopener%20noreferrer%27%3ECalendar%20data%3C%2Fa%3E%09Free%0Af_weather_date_weather_umap_16_25ac8b87%090.003%09100.0%095.5807,%205.1994,%206.004%09Upgini%09Weather%20%26%20climate%20normals%20data%09Premium%0Af_autofe_min_286%090.0026%09100.0%09-0.9955,%20-0.9323,%200.6902%09Upgini%09AutoFE%3A%20features%20from%20%3Ca%20href%3D%27https%3A%2F%2Fupgini.com%2F%23data_sources%27%20target%3D%27_blank%27%20rel%3D%27noopener%20noreferrer%27%3ECalendar%20data%3C%2Fa%3E%09Free%0Af_autofe_min_371%090.0024%09100.0%090.0943,%200.1793,%200.1373%09Upgini%09AutoFE%3A%20features%20from%20%3Ca%20href%3D%27https%3A%2F%2Fupgini.com%2F%23data_sources%27%20target%3D%27_blank%27%20rel%3D%27noopener%20noreferrer%27%3ECalendar%20data%3C%2Fa%3E%09Free%0Af_autofe_min_199%090.0023%09100.0%090.0,%20-0.901,%200.0%09Upgini%09AutoFE%3A%20features%20from%20%3Ca%20href%3D%27https%3A%2F%2Fupgini.com%2F%23data_sources%27%20target%3D%27_blank%27%20rel%3D%27noopener%20noreferrer%27%3ECalendar%20data%3C%2Fa%3E%09Free%0Af_autofe_min_308%090.0019%09100.0%090.134,%200.009,%200.057%09Upgini%09AutoFE%3A%20features%20from%20%3Ca%20href%3D%27https%3A%2F%2Fupgini.com%2F%23data_sources%27%20target%3D%27_blank%27%20rel%3D%27noopener%20noreferrer%27%3ECalendar%20data%3C%2Fa%3E,%3Ca%20href%3D%27https%3A%2F%2Fupgini.com%2F%23data_sources%27%20target%3D%27_blank%27%20rel%3D%27noopener%20noreferrer%27%3EMarkets%20data%3C%2Fa%3E%09Free%0Af_financial_date_nasdaq_9264860e%090.0018%09100.0%094835.7598,%203919.79,%205306.8501%09Upgini%09Markets%20data%09Free%0Af_weather_date_weather_pca_1_9e4af931%090.0017%09100.0%093.6529,%20-10.7025,%20-10.1659%09Upgini%09Weather%20%26%20climate%20normals%20data%09Premium%0Af_autofe_min_291%090.0012%09100.0%090.7694,%20-0.82,%200.1028%09Upgini%09AutoFE%3A%20features%20from%20%3Ca%20href%3D%27https%3A%2F%2Fupgini.com%2F%23data_sources%27%20target%3D%27_blank%27%20rel%3D%27noopener%20noreferrer%27%3ECalendar%20data%3C%2Fa%3E%09Free%0Af_autofe_div_2199%090.0012%09100.0%091.054,%201.0033,%200.4562%09Upgini%09AutoFE%3A%20features%20from%20%3Ca%20href%3D%27https%3A%2F%2Fupgini.com%2F%23data_sources%27%20target%3D%27_blank%27%20rel%3D%27noopener%20noreferrer%27%3ECalendar%20data%3C%2Fa%3E,%3Ca%20href%3D%27https%3A%2F%2Fupgini.com%2F%23data_sources%27%20target%3D%27_blank%27%20rel%3D%27noopener%20noreferrer%27%3EMarkets%20data%3C%2Fa%3E%09Free%0Af_autofe_min_243%090.0011%09100.0%090.4211,%20-0.2844,%20-0.9991%09Upgini%09AutoFE%3A%20features%20from%20%3Ca%20href%3D%27https%3A%2F%2Fupgini.com%2F%23data_sources%27%20target%3D%27_blank%27%20rel%3D%27noopener%20noreferrer%27%3ECalendar%20data%3C%2Fa%3E%09Free%0Af_autofe_max_1149%090.0009%09100.0%090.9015,%20-0.7441,%200.2959%09Upgini%09AutoFE%3A%20features%20from%20%3Ca%20href%3D%27https%3A%2F%2Fupgini.com%2F%23data_sources%27%20target%3D%27_blank%27%20rel%3D%27noopener%20noreferrer%27%3ECalendar%20data%3C%2Fa%3E%09Free%0Af_weather_date_weather_umap_33_89bb7578%090.0009%09100.0%095.1241,%205.4514,%204.6252%09Upgini%09Weather%20%26%20climate%20normals%20data%09Premium%0Af_autofe_max_1232%090.0008%09100.0%09-0.8438,%20-0.7086,%200.728%09Upgini%09AutoFE%3A%20features%20from%20%3Ca%20href%3D%27https%3A%2F%2Fupgini.com%2F%23data_sources%27%20target%3D%27_blank%27%20rel%3D%27noopener%20noreferrer%27%3ECalendar%20data%3C%2Fa%3E%09Free%0Af_autofe_max_1314%090.0007%09100.0%090.9088,%200.5148,%200.6793%09Upgini%09AutoFE%3A%20features%20from%20%3Ca%20href%3D%27https%3A%2F%2Fupgini.com%2F%23data_sources%27%20target%3D%27_blank%27%20rel%3D%27noopener%20noreferrer%27%3ECalendar%20data%3C%2Fa%3E%09Free%0Af_autofe_max_1894%090.0007%09100.0%091.2331,%201.2936,%201.1755%09Upgini%09AutoFE%3A%20features%20from%20%3Ca%20href%3D%27https%3A%2F%2Fupgini.com%2F%23data_sources%27%20target%3D%27_blank%27%20rel%3D%27noopener%20noreferrer%27%3EMarkets%20data%3C%2Fa%3E%09Free%0Af_autofe_div_2116%090.0006%09100.0%09-0.5556,%20-0.5189,%200.6725%09Upgini%09AutoFE%3A%20features%20from%20%3Ca%20href%3D%27https%3A%2F%2Fupgini.com%2F%23data_sources%27%20target%3D%27_blank%27%20rel%3D%27noopener%20noreferrer%27%3ECalendar%20data%3C%2Fa%3E,%3Ca%20href%3D%27https%3A%2F%2Fupgini.com%2F%23data_sources%27%20target%3D%27_blank%27%20rel%3D%27noopener%20noreferrer%27%3EMarkets%20data%3C%2Fa%3E%09Free%0Af_autofe_min_383%090.0006%09100.0%09-8.71,%20-0.4444,%20-26.2202%09Upgini%09AutoFE%3A%20features%20from%20%3Ca%20href%3D%27https%3A%2F%2Fupgini.com%2F%23data_sources%27%20target%3D%27_blank%27%20rel%3D%27noopener%20noreferrer%27%3ECalendar%20data%3C%2Fa%3E,%3Ca%20href%3D%27https%3A%2F%2Fupgini.com%2F%23data_sources%27%20target%3D%27_blank%27%20rel%3D%27noopener%20noreferrer%27%3EMarkets%20data%3C%2Fa%3E%09Free%0Af_financial_date_crude_oil_7d_to_1y_c3e0ad17%090.0005%09100.0%091.0348,%201.0554,%201.1455%09Upgini%09Markets%20data%09Free%0Af_autofe_max_1239%090.0005%09100.0%090.5794,%200.5161,%200.4925%09Upgini%09AutoFE%3A%20features%20from%20%3Ca%20href%3D%27https%3A%2F%2Fupgini.com%2F%23data_sources%27%20target%3D%27_blank%27%20rel%3D%27noopener%20noreferrer%27%3ECalendar%20data%3C%2Fa%3E%09Free%0Af_weather_date_weather_umap_8_faa85dbb%090.0005%09100.0%097.2191,%203.7907,%205.3984%09Upgini%09Weather%20%26%20climate%20normals%20data%09Premium%0Af_economic_date_cbpol_pca_2_33d6e3fc%090.0005%09100.0%090.2324,%201.5552,%20-1.1619%09Upgini%09World%20economic%20indicators%09Free%0Af_autofe_max_1173%090.0005%09100.0%090.9296,%200.9058,%201.0183%09Upgini%09AutoFE%3A%20features%20from%20%3Ca%20href%3D%27https%3A%2F%2Fupgini.com%2F%23data_sources%27%20target%3D%27_blank%27%20rel%3D%27noopener%20noreferrer%27%3ECalendar%20data%3C%2Fa%3E,%3Ca%20href%3D%27https%3A%2F%2Fupgini.com%2F%23data_sources%27%20target%3D%27_blank%27%20rel%3D%27noopener%20noreferrer%27%3EMarkets%20data%3C%2Fa%3E%09Free%0Af_autofe_max_1277%090.0004%09100.0%090.9128,%20-0.7339,%200.7788%09Upgini%09AutoFE%3A%20features%20from%20%3Ca%20href%3D%27https%3A%2F%2Fupgini.com%2F%23data_sources%27%20target%3D%27_blank%27%20rel%3D%27noopener%20noreferrer%27%3ECalendar%20data%3C%2Fa%3E%09Free%0Af_economic_date_cbpol_pca_9_bde660b4%090.0004%09100.0%09-2.8063,%20-2.4019,%20-2.2438%09Upgini%09World%20economic%20indicators%09Free%0Af_autofe_max_1237%090.0004%09100.0%09-0.4787,%20-0.2135,%200.6744%09Upgini%09AutoFE%3A%20features%20from%20%3Ca%20href%3D%27https%3A%2F%2Fupgini.com%2F%23data_sources%27%20target%3D%27_blank%27%20rel%3D%27noopener%20noreferrer%27%3ECalendar%20data%3C%2Fa%3E%09Free%0Af_weather_date_weather_umap_22_0342ee9e%090.0004%09100.0%095.3259,%204.9461,%204.5571%09Upgini%09Weather%20%26%20climate%20normals%20data%09Premium%0Af_autofe_div_2997%090.0004%09100.0%0938.7063,%2030.1044,%2026.2767%09Upgini%09AutoFE%3A%20features%20from%20%3Ca%20href%3D%27https%3A%2F%2Fupgini.com%2F%23data_sources%27%20target%3D%27_blank%27%20rel%3D%27noopener%20noreferrer%27%3EMarkets%20data%3C%2Fa%3E%09Free%0Af_autofe_min_287%090.0003%09100.0%09-0.9805,%20-0.9963,%20-0.8438%09Upgini%09AutoFE%3A%20features%20from%20%3Ca%20href%3D%27https%3A%2F%2Fupgini.com%2F%23data_sources%27%20target%3D%27_blank%27%20rel%3D%27noopener%20noreferrer%27%3ECalendar%20data%3C%2Fa%3E%09Free%0Af_autofe_div_2728%090.0003%09100.0%091.3468,%200.7703,%200.787%09Upgini%09AutoFE%3A%20features%20from%20%3Ca%20href%3D%27https%3A%2F%2Fupgini.com%2F%23data_sources%27%20target%3D%27_blank%27%20rel%3D%27noopener%20noreferrer%27%3EMarkets%20data%3C%2Fa%3E%09Free%0Af_autofe_min_324%090.0003%09100.0%090.3285,%200.9088,%20-0.0817%09Upgini%09AutoFE%3A%20features%20from%20%3Ca%20href%3D%27https%3A%2F%2Fupgini.com%2F%23data_sources%27%20target%3D%27_blank%27%20rel%3D%27noopener%20noreferrer%27%3ECalendar%20data%3C%2Fa%3E%09Free%0Af_weather_date_weather_umap_44_a0c8c0fe%090.0003%09100.0%095.5815,%205.0243,%205.1501%09Upgini%09Weather%20%26%20climate%20normals%20data%09Premium%0Af_autofe_max_1152%090.0002%09100.0%090.6793,%20-0.8475,%200.6387%09Upgini%09AutoFE%3A%20features%20from%20%3Ca%20href%3D%27https%3A%2F%2Fupgini.com%2F%23data_sources%27%20target%3D%27_blank%27%20rel%3D%27noopener%20noreferrer%27%3ECalendar%20data%3C%2Fa%3E%09Free%0A'>\n",
              "                    <button>📨 Share</button>\n",
              "                </a>\n",
              "            </div>\n",
              "            <table class='upgini-df'><thead><th>Feature name</th><th>SHAP value</th><th>Coverage %</th><th>Value preview</th><th>Provider</th><th>Source</th><th>Feature type</th></thead><tbody><tr><td class='upgini-text'>f_autofe_max_1189</td><td class='upgini-number'>0.0705</td><td class='upgini-number'>100.0000</td><td class='upgini-text'>-0.3817, 0.4674, 0.8521</td><td class='upgini-text'><a href='https://upgini.com' target='_blank' rel='noopener noreferrer'>Upgini</a></td><td class='upgini-text'>AutoFE: features from <a href='https://upgini.com/#data_sources' target='_blank' rel='noopener noreferrer'>Calendar data</a></td><td class='upgini-text'>Free</td></tr><tr><td class='upgini-text'><a href='https://docs.upgini.com/public/weather/weather_umap#f_weather_date_weather_umap_48_b39cd0c4' target='_blank' rel='noopener noreferrer'>f_weather_date_weather_umap_48_b39cd0c4</a></td><td class='upgini-number'>0.0203</td><td class='upgini-number'>100.0000</td><td class='upgini-text'>5.1271, 5.6923, 5.7202</td><td class='upgini-text'><a href='https://upgini.com' target='_blank' rel='noopener noreferrer'>Upgini</a></td><td class='upgini-text'><a href='https://upgini.com/#data_sources' target='_blank' rel='noopener noreferrer'>Weather & climate normals data</a></td><td class='upgini-text'>Premium</td></tr><tr><td class='upgini-text'>f_autofe_max_1147</td><td class='upgini-number'>0.0193</td><td class='upgini-number'>100.0000</td><td class='upgini-text'>0.9093, 0.3123, 0.2261</td><td class='upgini-text'><a href='https://upgini.com' target='_blank' rel='noopener noreferrer'>Upgini</a></td><td class='upgini-text'>AutoFE: features from <a href='https://upgini.com/#data_sources' target='_blank' rel='noopener noreferrer'>Calendar data</a></td><td class='upgini-text'>Free</td></tr><tr><td class='upgini-text'><a href='https://docs.upgini.com/public/calendar/calendar#f_events_date_year_cos1_9014a856' target='_blank' rel='noopener noreferrer'>f_events_date_year_cos1_9014a856</a></td><td class='upgini-number'>0.0157</td><td class='upgini-number'>100.0000</td><td class='upgini-text'>-0.2345, -0.4394, 0.8945</td><td class='upgini-text'><a href='https://upgini.com' target='_blank' rel='noopener noreferrer'>Upgini</a></td><td class='upgini-text'><a href='https://upgini.com/#data_sources' target='_blank' rel='noopener noreferrer'>Calendar data</a></td><td class='upgini-text'>Free</td></tr><tr><td class='upgini-text'>f_autofe_max_1230</td><td class='upgini-number'>0.0154</td><td class='upgini-number'>100.0000</td><td class='upgini-text'>-0.7325, 0.814, -0.9052</td><td class='upgini-text'><a href='https://upgini.com' target='_blank' rel='noopener noreferrer'>Upgini</a></td><td class='upgini-text'>AutoFE: features from <a href='https://upgini.com/#data_sources' target='_blank' rel='noopener noreferrer'>Calendar data</a></td><td class='upgini-text'>Free</td></tr><tr><td class='upgini-text'>f_autofe_div_2189</td><td class='upgini-number'>0.0115</td><td class='upgini-number'>100.0000</td><td class='upgini-text'>-0.0102, -0.0196, 0.0186</td><td class='upgini-text'><a href='https://upgini.com' target='_blank' rel='noopener noreferrer'>Upgini</a></td><td class='upgini-text'>AutoFE: features from <a href='https://upgini.com/#data_sources' target='_blank' rel='noopener noreferrer'>Calendar data</a>,<a href='https://upgini.com/#data_sources' target='_blank' rel='noopener noreferrer'>Markets data</a></td><td class='upgini-text'>Free</td></tr><tr><td class='upgini-text'><a href='https://docs.upgini.com/public/weather/weather_umap#f_weather_date_weather_umap_31_fa6d9a99' target='_blank' rel='noopener noreferrer'>f_weather_date_weather_umap_31_fa6d9a99</a></td><td class='upgini-number'>0.0114</td><td class='upgini-number'>100.0000</td><td class='upgini-text'>5.1233, 5.6368, 5.1351</td><td class='upgini-text'><a href='https://upgini.com' target='_blank' rel='noopener noreferrer'>Upgini</a></td><td class='upgini-text'><a href='https://upgini.com/#data_sources' target='_blank' rel='noopener noreferrer'>Weather & climate normals data</a></td><td class='upgini-text'>Premium</td></tr><tr><td class='upgini-text'><a href='https://docs.upgini.com/public/weather/weather_umap#f_weather_date_weather_umap_0_1ff14cbf' target='_blank' rel='noopener noreferrer'>f_weather_date_weather_umap_0_1ff14cbf</a></td><td class='upgini-number'>0.0091</td><td class='upgini-number'>100.0000</td><td class='upgini-text'>7.8864, 4.3034, 3.4168</td><td class='upgini-text'><a href='https://upgini.com' target='_blank' rel='noopener noreferrer'>Upgini</a></td><td class='upgini-text'><a href='https://upgini.com/#data_sources' target='_blank' rel='noopener noreferrer'>Weather & climate normals data</a></td><td class='upgini-text'>Premium</td></tr><tr><td class='upgini-text'>f_autofe_min_320</td><td class='upgini-number'>0.0042</td><td class='upgini-number'>100.0000</td><td class='upgini-text'>0.02, -0.12, 0.09</td><td class='upgini-text'><a href='https://upgini.com' target='_blank' rel='noopener noreferrer'>Upgini</a></td><td class='upgini-text'>AutoFE: features from <a href='https://upgini.com/#data_sources' target='_blank' rel='noopener noreferrer'>Calendar data</a>,<a href='https://upgini.com/#data_sources' target='_blank' rel='noopener noreferrer'>Markets data</a></td><td class='upgini-text'>Free</td></tr><tr><td class='upgini-text'>f_autofe_min_372</td><td class='upgini-number'>0.0033</td><td class='upgini-number'>100.0000</td><td class='upgini-text'>0.0772, -0.0429, -0.8297</td><td class='upgini-text'><a href='https://upgini.com' target='_blank' rel='noopener noreferrer'>Upgini</a></td><td class='upgini-text'>AutoFE: features from <a href='https://upgini.com/#data_sources' target='_blank' rel='noopener noreferrer'>Calendar data</a></td><td class='upgini-text'>Free</td></tr><tr><td class='upgini-text'><a href='https://docs.upgini.com/public/weather/weather_umap#f_weather_date_weather_umap_16_25ac8b87' target='_blank' rel='noopener noreferrer'>f_weather_date_weather_umap_16_25ac8b87</a></td><td class='upgini-number'>0.0030</td><td class='upgini-number'>100.0000</td><td class='upgini-text'>5.5807, 5.1994, 6.004</td><td class='upgini-text'><a href='https://upgini.com' target='_blank' rel='noopener noreferrer'>Upgini</a></td><td class='upgini-text'><a href='https://upgini.com/#data_sources' target='_blank' rel='noopener noreferrer'>Weather & climate normals data</a></td><td class='upgini-text'>Premium</td></tr><tr><td class='upgini-text'>f_autofe_min_286</td><td class='upgini-number'>0.0026</td><td class='upgini-number'>100.0000</td><td class='upgini-text'>-0.9955, -0.9323, 0.6902</td><td class='upgini-text'><a href='https://upgini.com' target='_blank' rel='noopener noreferrer'>Upgini</a></td><td class='upgini-text'>AutoFE: features from <a href='https://upgini.com/#data_sources' target='_blank' rel='noopener noreferrer'>Calendar data</a></td><td class='upgini-text'>Free</td></tr><tr><td class='upgini-text'>f_autofe_min_371</td><td class='upgini-number'>0.0024</td><td class='upgini-number'>100.0000</td><td class='upgini-text'>0.0943, 0.1793, 0.1373</td><td class='upgini-text'><a href='https://upgini.com' target='_blank' rel='noopener noreferrer'>Upgini</a></td><td class='upgini-text'>AutoFE: features from <a href='https://upgini.com/#data_sources' target='_blank' rel='noopener noreferrer'>Calendar data</a></td><td class='upgini-text'>Free</td></tr><tr><td class='upgini-text'>f_autofe_min_199</td><td class='upgini-number'>0.0023</td><td class='upgini-number'>100.0000</td><td class='upgini-text'>0.0, -0.901, 0.0</td><td class='upgini-text'><a href='https://upgini.com' target='_blank' rel='noopener noreferrer'>Upgini</a></td><td class='upgini-text'>AutoFE: features from <a href='https://upgini.com/#data_sources' target='_blank' rel='noopener noreferrer'>Calendar data</a></td><td class='upgini-text'>Free</td></tr><tr><td class='upgini-text'>f_autofe_min_308</td><td class='upgini-number'>0.0019</td><td class='upgini-number'>100.0000</td><td class='upgini-text'>0.134, 0.009, 0.057</td><td class='upgini-text'><a href='https://upgini.com' target='_blank' rel='noopener noreferrer'>Upgini</a></td><td class='upgini-text'>AutoFE: features from <a href='https://upgini.com/#data_sources' target='_blank' rel='noopener noreferrer'>Calendar data</a>,<a href='https://upgini.com/#data_sources' target='_blank' rel='noopener noreferrer'>Markets data</a></td><td class='upgini-text'>Free</td></tr><tr><td class='upgini-text'><a href='https://docs.upgini.com/public/markets/finance#f_financial_date_nasdaq_9264860e' target='_blank' rel='noopener noreferrer'>f_financial_date_nasdaq_9264860e</a></td><td class='upgini-number'>0.0018</td><td class='upgini-number'>100.0000</td><td class='upgini-text'>4835.7598, 3919.79, 5306.8501</td><td class='upgini-text'><a href='https://upgini.com' target='_blank' rel='noopener noreferrer'>Upgini</a></td><td class='upgini-text'><a href='https://upgini.com/#data_sources' target='_blank' rel='noopener noreferrer'>Markets data</a></td><td class='upgini-text'>Free</td></tr><tr><td class='upgini-text'><a href='https://docs.upgini.com/public/weather/weather_pca#f_weather_date_weather_pca_1_9e4af931' target='_blank' rel='noopener noreferrer'>f_weather_date_weather_pca_1_9e4af931</a></td><td class='upgini-number'>0.0017</td><td class='upgini-number'>100.0000</td><td class='upgini-text'>3.6529, -10.7025, -10.1659</td><td class='upgini-text'><a href='https://upgini.com' target='_blank' rel='noopener noreferrer'>Upgini</a></td><td class='upgini-text'><a href='https://upgini.com/#data_sources' target='_blank' rel='noopener noreferrer'>Weather & climate normals data</a></td><td class='upgini-text'>Premium</td></tr><tr><td class='upgini-text'>f_autofe_min_291</td><td class='upgini-number'>0.0012</td><td class='upgini-number'>100.0000</td><td class='upgini-text'>0.7694, -0.82, 0.1028</td><td class='upgini-text'><a href='https://upgini.com' target='_blank' rel='noopener noreferrer'>Upgini</a></td><td class='upgini-text'>AutoFE: features from <a href='https://upgini.com/#data_sources' target='_blank' rel='noopener noreferrer'>Calendar data</a></td><td class='upgini-text'>Free</td></tr><tr><td class='upgini-text'>f_autofe_div_2199</td><td class='upgini-number'>0.0012</td><td class='upgini-number'>100.0000</td><td class='upgini-text'>1.054, 1.0033, 0.4562</td><td class='upgini-text'><a href='https://upgini.com' target='_blank' rel='noopener noreferrer'>Upgini</a></td><td class='upgini-text'>AutoFE: features from <a href='https://upgini.com/#data_sources' target='_blank' rel='noopener noreferrer'>Calendar data</a>,<a href='https://upgini.com/#data_sources' target='_blank' rel='noopener noreferrer'>Markets data</a></td><td class='upgini-text'>Free</td></tr><tr><td class='upgini-text'>f_autofe_min_243</td><td class='upgini-number'>0.0011</td><td class='upgini-number'>100.0000</td><td class='upgini-text'>0.4211, -0.2844, -0.9991</td><td class='upgini-text'><a href='https://upgini.com' target='_blank' rel='noopener noreferrer'>Upgini</a></td><td class='upgini-text'>AutoFE: features from <a href='https://upgini.com/#data_sources' target='_blank' rel='noopener noreferrer'>Calendar data</a></td><td class='upgini-text'>Free</td></tr><tr><td class='upgini-text'>f_autofe_max_1149</td><td class='upgini-number'>0.0009</td><td class='upgini-number'>100.0000</td><td class='upgini-text'>0.9015, -0.7441, 0.2959</td><td class='upgini-text'><a href='https://upgini.com' target='_blank' rel='noopener noreferrer'>Upgini</a></td><td class='upgini-text'>AutoFE: features from <a href='https://upgini.com/#data_sources' target='_blank' rel='noopener noreferrer'>Calendar data</a></td><td class='upgini-text'>Free</td></tr><tr><td class='upgini-text'><a href='https://docs.upgini.com/public/weather/weather_umap#f_weather_date_weather_umap_33_89bb7578' target='_blank' rel='noopener noreferrer'>f_weather_date_weather_umap_33_89bb7578</a></td><td class='upgini-number'>0.0009</td><td class='upgini-number'>100.0000</td><td class='upgini-text'>5.1241, 5.4514, 4.6252</td><td class='upgini-text'><a href='https://upgini.com' target='_blank' rel='noopener noreferrer'>Upgini</a></td><td class='upgini-text'><a href='https://upgini.com/#data_sources' target='_blank' rel='noopener noreferrer'>Weather & climate normals data</a></td><td class='upgini-text'>Premium</td></tr><tr><td class='upgini-text'>f_autofe_max_1232</td><td class='upgini-number'>0.0008</td><td class='upgini-number'>100.0000</td><td class='upgini-text'>-0.8438, -0.7086, 0.728</td><td class='upgini-text'><a href='https://upgini.com' target='_blank' rel='noopener noreferrer'>Upgini</a></td><td class='upgini-text'>AutoFE: features from <a href='https://upgini.com/#data_sources' target='_blank' rel='noopener noreferrer'>Calendar data</a></td><td class='upgini-text'>Free</td></tr><tr><td class='upgini-text'>f_autofe_max_1314</td><td class='upgini-number'>0.0007</td><td class='upgini-number'>100.0000</td><td class='upgini-text'>0.9088, 0.5148, 0.6793</td><td class='upgini-text'><a href='https://upgini.com' target='_blank' rel='noopener noreferrer'>Upgini</a></td><td class='upgini-text'>AutoFE: features from <a href='https://upgini.com/#data_sources' target='_blank' rel='noopener noreferrer'>Calendar data</a></td><td class='upgini-text'>Free</td></tr><tr><td class='upgini-text'>f_autofe_max_1894</td><td class='upgini-number'>0.0007</td><td class='upgini-number'>100.0000</td><td class='upgini-text'>1.2331, 1.2936, 1.1755</td><td class='upgini-text'><a href='https://upgini.com' target='_blank' rel='noopener noreferrer'>Upgini</a></td><td class='upgini-text'>AutoFE: features from <a href='https://upgini.com/#data_sources' target='_blank' rel='noopener noreferrer'>Markets data</a></td><td class='upgini-text'>Free</td></tr><tr><td class='upgini-text'>f_autofe_div_2116</td><td class='upgini-number'>0.0006</td><td class='upgini-number'>100.0000</td><td class='upgini-text'>-0.5556, -0.5189, 0.6725</td><td class='upgini-text'><a href='https://upgini.com' target='_blank' rel='noopener noreferrer'>Upgini</a></td><td class='upgini-text'>AutoFE: features from <a href='https://upgini.com/#data_sources' target='_blank' rel='noopener noreferrer'>Calendar data</a>,<a href='https://upgini.com/#data_sources' target='_blank' rel='noopener noreferrer'>Markets data</a></td><td class='upgini-text'>Free</td></tr><tr><td class='upgini-text'>f_autofe_min_383</td><td class='upgini-number'>0.0006</td><td class='upgini-number'>100.0000</td><td class='upgini-text'>-8.71, -0.4444, -26.2202</td><td class='upgini-text'><a href='https://upgini.com' target='_blank' rel='noopener noreferrer'>Upgini</a></td><td class='upgini-text'>AutoFE: features from <a href='https://upgini.com/#data_sources' target='_blank' rel='noopener noreferrer'>Calendar data</a>,<a href='https://upgini.com/#data_sources' target='_blank' rel='noopener noreferrer'>Markets data</a></td><td class='upgini-text'>Free</td></tr><tr><td class='upgini-text'><a href='https://docs.upgini.com/public/markets/finance#f_financial_date_crude_oil_7d_to_1y_c3e0ad17' target='_blank' rel='noopener noreferrer'>f_financial_date_crude_oil_7d_to_1y_c3e0ad17</a></td><td class='upgini-number'>0.0005</td><td class='upgini-number'>100.0000</td><td class='upgini-text'>1.0348, 1.0554, 1.1455</td><td class='upgini-text'><a href='https://upgini.com' target='_blank' rel='noopener noreferrer'>Upgini</a></td><td class='upgini-text'><a href='https://upgini.com/#data_sources' target='_blank' rel='noopener noreferrer'>Markets data</a></td><td class='upgini-text'>Free</td></tr><tr><td class='upgini-text'>f_autofe_max_1239</td><td class='upgini-number'>0.0005</td><td class='upgini-number'>100.0000</td><td class='upgini-text'>0.5794, 0.5161, 0.4925</td><td class='upgini-text'><a href='https://upgini.com' target='_blank' rel='noopener noreferrer'>Upgini</a></td><td class='upgini-text'>AutoFE: features from <a href='https://upgini.com/#data_sources' target='_blank' rel='noopener noreferrer'>Calendar data</a></td><td class='upgini-text'>Free</td></tr><tr><td class='upgini-text'><a href='https://docs.upgini.com/public/weather/weather_umap#f_weather_date_weather_umap_8_faa85dbb' target='_blank' rel='noopener noreferrer'>f_weather_date_weather_umap_8_faa85dbb</a></td><td class='upgini-number'>0.0005</td><td class='upgini-number'>100.0000</td><td class='upgini-text'>7.2191, 3.7907, 5.3984</td><td class='upgini-text'><a href='https://upgini.com' target='_blank' rel='noopener noreferrer'>Upgini</a></td><td class='upgini-text'><a href='https://upgini.com/#data_sources' target='_blank' rel='noopener noreferrer'>Weather & climate normals data</a></td><td class='upgini-text'>Premium</td></tr><tr><td class='upgini-text'><a href='https://docs.upgini.com/public/economics/cbpol_pca#f_economic_date_cbpol_pca_2_33d6e3fc' target='_blank' rel='noopener noreferrer'>f_economic_date_cbpol_pca_2_33d6e3fc</a></td><td class='upgini-number'>0.0005</td><td class='upgini-number'>100.0000</td><td class='upgini-text'>0.2324, 1.5552, -1.1619</td><td class='upgini-text'><a href='https://upgini.com' target='_blank' rel='noopener noreferrer'>Upgini</a></td><td class='upgini-text'><a href='https://upgini.com/#data_sources' target='_blank' rel='noopener noreferrer'>World economic indicators</a></td><td class='upgini-text'>Free</td></tr><tr><td class='upgini-text'>f_autofe_max_1173</td><td class='upgini-number'>0.0005</td><td class='upgini-number'>100.0000</td><td class='upgini-text'>0.9296, 0.9058, 1.0183</td><td class='upgini-text'><a href='https://upgini.com' target='_blank' rel='noopener noreferrer'>Upgini</a></td><td class='upgini-text'>AutoFE: features from <a href='https://upgini.com/#data_sources' target='_blank' rel='noopener noreferrer'>Calendar data</a>,<a href='https://upgini.com/#data_sources' target='_blank' rel='noopener noreferrer'>Markets data</a></td><td class='upgini-text'>Free</td></tr><tr><td class='upgini-text'>f_autofe_max_1277</td><td class='upgini-number'>0.0004</td><td class='upgini-number'>100.0000</td><td class='upgini-text'>0.9128, -0.7339, 0.7788</td><td class='upgini-text'><a href='https://upgini.com' target='_blank' rel='noopener noreferrer'>Upgini</a></td><td class='upgini-text'>AutoFE: features from <a href='https://upgini.com/#data_sources' target='_blank' rel='noopener noreferrer'>Calendar data</a></td><td class='upgini-text'>Free</td></tr><tr><td class='upgini-text'><a href='https://docs.upgini.com/public/economics/cbpol_pca#f_economic_date_cbpol_pca_9_bde660b4' target='_blank' rel='noopener noreferrer'>f_economic_date_cbpol_pca_9_bde660b4</a></td><td class='upgini-number'>0.0004</td><td class='upgini-number'>100.0000</td><td class='upgini-text'>-2.8063, -2.4019, -2.2438</td><td class='upgini-text'><a href='https://upgini.com' target='_blank' rel='noopener noreferrer'>Upgini</a></td><td class='upgini-text'><a href='https://upgini.com/#data_sources' target='_blank' rel='noopener noreferrer'>World economic indicators</a></td><td class='upgini-text'>Free</td></tr><tr><td class='upgini-text'>f_autofe_max_1237</td><td class='upgini-number'>0.0004</td><td class='upgini-number'>100.0000</td><td class='upgini-text'>-0.4787, -0.2135, 0.6744</td><td class='upgini-text'><a href='https://upgini.com' target='_blank' rel='noopener noreferrer'>Upgini</a></td><td class='upgini-text'>AutoFE: features from <a href='https://upgini.com/#data_sources' target='_blank' rel='noopener noreferrer'>Calendar data</a></td><td class='upgini-text'>Free</td></tr><tr><td class='upgini-text'><a href='https://docs.upgini.com/public/weather/weather_umap#f_weather_date_weather_umap_22_0342ee9e' target='_blank' rel='noopener noreferrer'>f_weather_date_weather_umap_22_0342ee9e</a></td><td class='upgini-number'>0.0004</td><td class='upgini-number'>100.0000</td><td class='upgini-text'>5.3259, 4.9461, 4.5571</td><td class='upgini-text'><a href='https://upgini.com' target='_blank' rel='noopener noreferrer'>Upgini</a></td><td class='upgini-text'><a href='https://upgini.com/#data_sources' target='_blank' rel='noopener noreferrer'>Weather & climate normals data</a></td><td class='upgini-text'>Premium</td></tr><tr><td class='upgini-text'>f_autofe_div_2997</td><td class='upgini-number'>0.0004</td><td class='upgini-number'>100.0000</td><td class='upgini-text'>38.7063, 30.1044, 26.2767</td><td class='upgini-text'><a href='https://upgini.com' target='_blank' rel='noopener noreferrer'>Upgini</a></td><td class='upgini-text'>AutoFE: features from <a href='https://upgini.com/#data_sources' target='_blank' rel='noopener noreferrer'>Markets data</a></td><td class='upgini-text'>Free</td></tr><tr><td class='upgini-text'>f_autofe_min_287</td><td class='upgini-number'>0.0003</td><td class='upgini-number'>100.0000</td><td class='upgini-text'>-0.9805, -0.9963, -0.8438</td><td class='upgini-text'><a href='https://upgini.com' target='_blank' rel='noopener noreferrer'>Upgini</a></td><td class='upgini-text'>AutoFE: features from <a href='https://upgini.com/#data_sources' target='_blank' rel='noopener noreferrer'>Calendar data</a></td><td class='upgini-text'>Free</td></tr><tr><td class='upgini-text'>f_autofe_div_2728</td><td class='upgini-number'>0.0003</td><td class='upgini-number'>100.0000</td><td class='upgini-text'>1.3468, 0.7703, 0.787</td><td class='upgini-text'><a href='https://upgini.com' target='_blank' rel='noopener noreferrer'>Upgini</a></td><td class='upgini-text'>AutoFE: features from <a href='https://upgini.com/#data_sources' target='_blank' rel='noopener noreferrer'>Markets data</a></td><td class='upgini-text'>Free</td></tr><tr><td class='upgini-text'>f_autofe_min_324</td><td class='upgini-number'>0.0003</td><td class='upgini-number'>100.0000</td><td class='upgini-text'>0.3285, 0.9088, -0.0817</td><td class='upgini-text'><a href='https://upgini.com' target='_blank' rel='noopener noreferrer'>Upgini</a></td><td class='upgini-text'>AutoFE: features from <a href='https://upgini.com/#data_sources' target='_blank' rel='noopener noreferrer'>Calendar data</a></td><td class='upgini-text'>Free</td></tr><tr><td class='upgini-text'><a href='https://docs.upgini.com/public/weather/weather_umap#f_weather_date_weather_umap_44_a0c8c0fe' target='_blank' rel='noopener noreferrer'>f_weather_date_weather_umap_44_a0c8c0fe</a></td><td class='upgini-number'>0.0003</td><td class='upgini-number'>100.0000</td><td class='upgini-text'>5.5815, 5.0243, 5.1501</td><td class='upgini-text'><a href='https://upgini.com' target='_blank' rel='noopener noreferrer'>Upgini</a></td><td class='upgini-text'><a href='https://upgini.com/#data_sources' target='_blank' rel='noopener noreferrer'>Weather & climate normals data</a></td><td class='upgini-text'>Premium</td></tr><tr><td class='upgini-text'>f_autofe_max_1152</td><td class='upgini-number'>0.0002</td><td class='upgini-number'>100.0000</td><td class='upgini-text'>0.6793, -0.8475, 0.6387</td><td class='upgini-text'><a href='https://upgini.com' target='_blank' rel='noopener noreferrer'>Upgini</a></td><td class='upgini-text'>AutoFE: features from <a href='https://upgini.com/#data_sources' target='_blank' rel='noopener noreferrer'>Calendar data</a></td><td class='upgini-text'>Free</td></tr></tbody></table>\n",
              "        </div>\n",
              "        "
            ]
          },
          "metadata": {}
        },
        {
          "output_type": "display_data",
          "data": {
            "text/plain": [
              "<IPython.core.display.HTML object>"
            ],
            "text/html": [
              "<style>\n",
              "            .upgini-df thead th {\n",
              "                font-weight:bold;\n",
              "                text-align: center;\n",
              "                padding: 0.5em;\n",
              "                border-bottom: 2px solid black;\n",
              "            }\n",
              "\n",
              "            .upgini-df tbody td {\n",
              "                padding: 0.5em;\n",
              "            }\n",
              "\n",
              "            .upgini-df tbody tr:nth-child(odd) {\n",
              "                background-color: #ffffff;\n",
              "            }\n",
              "\n",
              "            .upgini-df tbody tr:nth-child(even) {\n",
              "                background-color: #f2f2f2;\n",
              "            }\n",
              "\n",
              "            .upgini-text {\n",
              "                text-align: left;\n",
              "            }\n",
              "\n",
              "            .upgini-number {\n",
              "                text-align: center;\n",
              "            }\n",
              "        </style>\n",
              "        <h2>Relevant data sources</h2>\n",
              "        <div style=\"display:flex; flex-direction:column; align-items:flex-end; width: fit-content;\">\n",
              "            <div style=\"text-align: right\">\n",
              "                <button onclick=navigator.clipboard.writeText(decodeURI('Provider%09Source%09All%20features%20SHAP%09Number%20of%20relevant%20features%0AUpgini%09AutoFE%3A%20features%20from%20%3Ca%20href%3D%27https%3A%2F%2Fupgini.com%2F%23data_sources%27%20target%3D%27_blank%27%20rel%3D%27noopener%20noreferrer%27%3ECalendar%20data%3C%2Fa%3E%090.1226%0918%0AUpgini%09Weather%20%26%20climate%20normals%20data%090.047599999999999996%099%0AUpgini%09AutoFE%3A%20features%20from%20%3Ca%20href%3D%27https%3A%2F%2Fupgini.com%2F%23data_sources%27%20target%3D%27_blank%27%20rel%3D%27noopener%20noreferrer%27%3ECalendar%20data%3C%2Fa%3E,%3Ca%20href%3D%27https%3A%2F%2Fupgini.com%2F%23data_sources%27%20target%3D%27_blank%27%20rel%3D%27noopener%20noreferrer%27%3EMarkets%20data%3C%2Fa%3E%090.0205%097%0AUpgini%09Calendar%20data%090.0157%091%0AUpgini%09Markets%20data%090.0023%092%0AUpgini%09AutoFE%3A%20features%20from%20%3Ca%20href%3D%27https%3A%2F%2Fupgini.com%2F%23data_sources%27%20target%3D%27_blank%27%20rel%3D%27noopener%20noreferrer%27%3EMarkets%20data%3C%2Fa%3E%090.0014%093%0AUpgini%09World%20economic%20indicators%090.0009%092%0A'))>📂 Copy</button>\n",
              "                <a href='mailto:<Share with...>?subject=Relevant external data sources from Upgini.com&body=Provider%09Source%09All%20features%20SHAP%09Number%20of%20relevant%20features%0AUpgini%09AutoFE%3A%20features%20from%20%3Ca%20href%3D%27https%3A%2F%2Fupgini.com%2F%23data_sources%27%20target%3D%27_blank%27%20rel%3D%27noopener%20noreferrer%27%3ECalendar%20data%3C%2Fa%3E%090.1226%0918%0AUpgini%09Weather%20%26%20climate%20normals%20data%090.047599999999999996%099%0AUpgini%09AutoFE%3A%20features%20from%20%3Ca%20href%3D%27https%3A%2F%2Fupgini.com%2F%23data_sources%27%20target%3D%27_blank%27%20rel%3D%27noopener%20noreferrer%27%3ECalendar%20data%3C%2Fa%3E,%3Ca%20href%3D%27https%3A%2F%2Fupgini.com%2F%23data_sources%27%20target%3D%27_blank%27%20rel%3D%27noopener%20noreferrer%27%3EMarkets%20data%3C%2Fa%3E%090.0205%097%0AUpgini%09Calendar%20data%090.0157%091%0AUpgini%09Markets%20data%090.0023%092%0AUpgini%09AutoFE%3A%20features%20from%20%3Ca%20href%3D%27https%3A%2F%2Fupgini.com%2F%23data_sources%27%20target%3D%27_blank%27%20rel%3D%27noopener%20noreferrer%27%3EMarkets%20data%3C%2Fa%3E%090.0014%093%0AUpgini%09World%20economic%20indicators%090.0009%092%0A'>\n",
              "                    <button>📨 Share</button>\n",
              "                </a>\n",
              "            </div>\n",
              "            <table class='upgini-df'><thead><th>Provider</th><th>Source</th><th>All features SHAP</th><th>Number of relevant features</th></thead><tbody><tr><td class='upgini-text'><a href='https://upgini.com' target='_blank' rel='noopener noreferrer'>Upgini</a></td><td class='upgini-text'>AutoFE: features from <a href='https://upgini.com/#data_sources' target='_blank' rel='noopener noreferrer'>Calendar data</a></td><td class='upgini-number'>0.1226</td><td class='upgini-number'>18</td></tr><tr><td class='upgini-text'><a href='https://upgini.com' target='_blank' rel='noopener noreferrer'>Upgini</a></td><td class='upgini-text'><a href='https://upgini.com/#data_sources' target='_blank' rel='noopener noreferrer'>Weather & climate normals data</a></td><td class='upgini-number'>0.0476</td><td class='upgini-number'>9</td></tr><tr><td class='upgini-text'><a href='https://upgini.com' target='_blank' rel='noopener noreferrer'>Upgini</a></td><td class='upgini-text'>AutoFE: features from <a href='https://upgini.com/#data_sources' target='_blank' rel='noopener noreferrer'>Calendar data</a>,<a href='https://upgini.com/#data_sources' target='_blank' rel='noopener noreferrer'>Markets data</a></td><td class='upgini-number'>0.0205</td><td class='upgini-number'>7</td></tr><tr><td class='upgini-text'><a href='https://upgini.com' target='_blank' rel='noopener noreferrer'>Upgini</a></td><td class='upgini-text'><a href='https://upgini.com/#data_sources' target='_blank' rel='noopener noreferrer'>Calendar data</a></td><td class='upgini-number'>0.0157</td><td class='upgini-number'>1</td></tr><tr><td class='upgini-text'><a href='https://upgini.com' target='_blank' rel='noopener noreferrer'>Upgini</a></td><td class='upgini-text'><a href='https://upgini.com/#data_sources' target='_blank' rel='noopener noreferrer'>Markets data</a></td><td class='upgini-number'>0.0023</td><td class='upgini-number'>2</td></tr><tr><td class='upgini-text'><a href='https://upgini.com' target='_blank' rel='noopener noreferrer'>Upgini</a></td><td class='upgini-text'>AutoFE: features from <a href='https://upgini.com/#data_sources' target='_blank' rel='noopener noreferrer'>Markets data</a></td><td class='upgini-number'>0.0014</td><td class='upgini-number'>3</td></tr><tr><td class='upgini-text'><a href='https://upgini.com' target='_blank' rel='noopener noreferrer'>Upgini</a></td><td class='upgini-text'><a href='https://upgini.com/#data_sources' target='_blank' rel='noopener noreferrer'>World economic indicators</a></td><td class='upgini-number'>0.0009</td><td class='upgini-number'>2</td></tr></tbody></table>\n",
              "        </div>\n",
              "        "
            ]
          },
          "metadata": {}
        },
        {
          "output_type": "display_data",
          "data": {
            "text/plain": [
              "<IPython.core.display.HTML object>"
            ],
            "text/html": [
              "<style>\n",
              "            .upgini-df thead th {\n",
              "                font-weight:bold;\n",
              "                text-align: center;\n",
              "                padding: 0.5em;\n",
              "                border-bottom: 2px solid black;\n",
              "            }\n",
              "\n",
              "            .upgini-df tbody td {\n",
              "                padding: 0.5em;\n",
              "            }\n",
              "\n",
              "            .upgini-df tbody tr:nth-child(odd) {\n",
              "                background-color: #ffffff;\n",
              "            }\n",
              "\n",
              "            .upgini-df tbody tr:nth-child(even) {\n",
              "                background-color: #f2f2f2;\n",
              "            }\n",
              "\n",
              "            .upgini-text {\n",
              "                text-align: left;\n",
              "            }\n",
              "\n",
              "            .upgini-number {\n",
              "                text-align: center;\n",
              "            }\n",
              "        </style>\n",
              "        <h2>*Description of AutoFE feature names</h2>\n",
              "        <div style=\"display:flex; flex-direction:column; align-items:flex-end; width: fit-content;\">\n",
              "            <div style=\"text-align: right\">\n",
              "                <button onclick=navigator.clipboard.writeText(decodeURI('Sources%09Feature%20name%09Feature%201%09Feature%202%09Function%0A%3Ca%20href%3D%27https%3A%2F%2Fupgini.com%2F%23data_sources%27%20target%3D%27_blank%27%20rel%3D%27noopener%20noreferrer%27%3ECalendar%20data%3C%2Fa%3E,%3Ca%20href%3D%27https%3A%2F%2Fupgini.com%2F%23data_sources%27%20target%3D%27_blank%27%20rel%3D%27noopener%20noreferrer%27%3EMarkets%20data%3C%2Fa%3E%09f_autofe_div_2116%09f_events_date_week_cos1_f6a8c1fc%09f_financial_date_natural_gas_7d_to_7d_1y_shift_a5c3c07f%09div%0A%3Ca%20href%3D%27https%3A%2F%2Fupgini.com%2F%23data_sources%27%20target%3D%27_blank%27%20rel%3D%27noopener%20noreferrer%27%3ECalendar%20data%3C%2Fa%3E,%3Ca%20href%3D%27https%3A%2F%2Fupgini.com%2F%23data_sources%27%20target%3D%27_blank%27%20rel%3D%27noopener%20noreferrer%27%3EMarkets%20data%3C%2Fa%3E%09f_autofe_div_2189%09f_events_date_week_sin1_847b5db1%09f_financial_date_crude_oil_1f195998%09div%0A%3Ca%20href%3D%27https%3A%2F%2Fupgini.com%2F%23data_sources%27%20target%3D%27_blank%27%20rel%3D%27noopener%20noreferrer%27%3ECalendar%20data%3C%2Fa%3E,%3Ca%20href%3D%27https%3A%2F%2Fupgini.com%2F%23data_sources%27%20target%3D%27_blank%27%20rel%3D%27noopener%20noreferrer%27%3EMarkets%20data%3C%2Fa%3E%09f_autofe_div_2199%09f_events_date_week_sin1_847b5db1%09f_financial_date_natural_gas_7d_to_7d_1y_shift_a5c3c07f%09div%0A%3Ca%20href%3D%27https%3A%2F%2Fupgini.com%2F%23data_sources%27%20target%3D%27_blank%27%20rel%3D%27noopener%20noreferrer%27%3EMarkets%20data%3C%2Fa%3E%09f_autofe_div_2728%09f_financial_date_crude_oil_7d_to_1y_c3e0ad17%09f_financial_date_stoxx_7d_to_7d_1y_shift_abef6e91%09div%0A%3Ca%20href%3D%27https%3A%2F%2Fupgini.com%2F%23data_sources%27%20target%3D%27_blank%27%20rel%3D%27noopener%20noreferrer%27%3EMarkets%20data%3C%2Fa%3E%09f_autofe_div_2997%09f_financial_date_stoxx_043cbcd4%09f_financial_date_vix_6c8e6194%09div%0A%3Ca%20href%3D%27https%3A%2F%2Fupgini.com%2F%23data_sources%27%20target%3D%27_blank%27%20rel%3D%27noopener%20noreferrer%27%3ECalendar%20data%3C%2Fa%3E%09f_autofe_max_1147%09f_events_date_week_cos1_f6a8c1fc%09f_events_date_year_cos1_9014a856%09max%0A%3Ca%20href%3D%27https%3A%2F%2Fupgini.com%2F%23data_sources%27%20target%3D%27_blank%27%20rel%3D%27noopener%20noreferrer%27%3ECalendar%20data%3C%2Fa%3E%09f_autofe_max_1149%09f_events_date_week_cos1_f6a8c1fc%09f_events_date_year_cos2_7acbaf1b%09max%0A%3Ca%20href%3D%27https%3A%2F%2Fupgini.com%2F%23data_sources%27%20target%3D%27_blank%27%20rel%3D%27noopener%20noreferrer%27%3ECalendar%20data%3C%2Fa%3E%09f_autofe_max_1152%09f_events_date_week_cos1_f6a8c1fc%09f_events_date_year_cos6_7c1806a3%09max%0A%3Ca%20href%3D%27https%3A%2F%2Fupgini.com%2F%23data_sources%27%20target%3D%27_blank%27%20rel%3D%27noopener%20noreferrer%27%3ECalendar%20data%3C%2Fa%3E,%3Ca%20href%3D%27https%3A%2F%2Fupgini.com%2F%23data_sources%27%20target%3D%27_blank%27%20rel%3D%27noopener%20noreferrer%27%3EMarkets%20data%3C%2Fa%3E%09f_autofe_max_1173%09f_events_date_week_cos1_f6a8c1fc%09f_financial_date_silver_7d_to_1y_0ccfe462%09max%0A%3Ca%20href%3D%27https%3A%2F%2Fupgini.com%2F%23data_sources%27%20target%3D%27_blank%27%20rel%3D%27noopener%20noreferrer%27%3ECalendar%20data%3C%2Fa%3E%09f_autofe_max_1189%09f_events_date_week_cos3_7525fe31%09f_events_date_year_cos1_9014a856%09max%0A%3Ca%20href%3D%27https%3A%2F%2Fupgini.com%2F%23data_sources%27%20target%3D%27_blank%27%20rel%3D%27noopener%20noreferrer%27%3ECalendar%20data%3C%2Fa%3E%09f_autofe_max_1230%09f_events_date_week_sin1_847b5db1%09f_events_date_year_cos1_9014a856%09max%0A%3Ca%20href%3D%27https%3A%2F%2Fupgini.com%2F%23data_sources%27%20target%3D%27_blank%27%20rel%3D%27noopener%20noreferrer%27%3ECalendar%20data%3C%2Fa%3E%09f_autofe_max_1232%09f_events_date_week_sin1_847b5db1%09f_events_date_year_cos2_7acbaf1b%09max%0A%3Ca%20href%3D%27https%3A%2F%2Fupgini.com%2F%23data_sources%27%20target%3D%27_blank%27%20rel%3D%27noopener%20noreferrer%27%3ECalendar%20data%3C%2Fa%3E%09f_autofe_max_1237%09f_events_date_week_sin1_847b5db1%09f_events_date_year_sin1_3c44bc64%09max%0A%3Ca%20href%3D%27https%3A%2F%2Fupgini.com%2F%23data_sources%27%20target%3D%27_blank%27%20rel%3D%27noopener%20noreferrer%27%3ECalendar%20data%3C%2Fa%3E%09f_autofe_max_1239%09f_events_date_week_sin1_847b5db1%09f_events_date_year_sin3_e4c1ec0e%09max%0A%3Ca%20href%3D%27https%3A%2F%2Fupgini.com%2F%23data_sources%27%20target%3D%27_blank%27%20rel%3D%27noopener%20noreferrer%27%3ECalendar%20data%3C%2Fa%3E%09f_autofe_max_1277%09f_events_date_week_sin3_0723e6e6%09f_events_date_year_sin1_3c44bc64%09max%0A%3Ca%20href%3D%27https%3A%2F%2Fupgini.com%2F%23data_sources%27%20target%3D%27_blank%27%20rel%3D%27noopener%20noreferrer%27%3ECalendar%20data%3C%2Fa%3E%09f_autofe_max_1314%09f_events_date_year_cos1_9014a856%09f_events_date_year_cos6_7c1806a3%09max%0A%3Ca%20href%3D%27https%3A%2F%2Fupgini.com%2F%23data_sources%27%20target%3D%27_blank%27%20rel%3D%27noopener%20noreferrer%27%3EMarkets%20data%3C%2Fa%3E%09f_autofe_max_1894%09f_financial_date_nasdaq_7d_to_7d_1y_shift_4a4dd6ce%09f_financial_date_usd_7d_to_7d_1y_shift_35cb53e9%09max%0A%3Ca%20href%3D%27https%3A%2F%2Fupgini.com%2F%23data_sources%27%20target%3D%27_blank%27%20rel%3D%27noopener%20noreferrer%27%3ECalendar%20data%3C%2Fa%3E,%3Ca%20href%3D%27https%3A%2F%2Fupgini.com%2F%23data_sources%27%20target%3D%27_blank%27%20rel%3D%27noopener%20noreferrer%27%3EMarkets%20data%3C%2Fa%3E%09f_autofe_div_2199%09f_events_date_week_cos1_f6a8c1fc%09f_events_date_week_sin1_847b5db1%09%0A%3Ca%20href%3D%27https%3A%2F%2Fupgini.com%2F%23data_sources%27%20target%3D%27_blank%27%20rel%3D%27noopener%20noreferrer%27%3ECalendar%20data%3C%2Fa%3E%09f_autofe_min_243%09f_events_date_week_cos3_7525fe31%09f_events_date_year_cos1_9014a856%09min%0A%3Ca%20href%3D%27https%3A%2F%2Fupgini.com%2F%23data_sources%27%20target%3D%27_blank%27%20rel%3D%27noopener%20noreferrer%27%3ECalendar%20data%3C%2Fa%3E%09f_autofe_min_286%09f_events_date_week_sin1_847b5db1%09f_events_date_year_cos2_7acbaf1b%09min%0A%3Ca%20href%3D%27https%3A%2F%2Fupgini.com%2F%23data_sources%27%20target%3D%27_blank%27%20rel%3D%27noopener%20noreferrer%27%3ECalendar%20data%3C%2Fa%3E%09f_autofe_min_287%09f_events_date_week_sin1_847b5db1%09f_events_date_year_cos4_f5e6853f%09min%0A%3Ca%20href%3D%27https%3A%2F%2Fupgini.com%2F%23data_sources%27%20target%3D%27_blank%27%20rel%3D%27noopener%20noreferrer%27%3ECalendar%20data%3C%2Fa%3E%09f_autofe_min_291%09f_events_date_week_sin1_847b5db1%09f_events_date_year_sin1_3c44bc64%09min%0A%3Ca%20href%3D%27https%3A%2F%2Fupgini.com%2F%23data_sources%27%20target%3D%27_blank%27%20rel%3D%27noopener%20noreferrer%27%3ECalendar%20data%3C%2Fa%3E,%3Ca%20href%3D%27https%3A%2F%2Fupgini.com%2F%23data_sources%27%20target%3D%27_blank%27%20rel%3D%27noopener%20noreferrer%27%3EMarkets%20data%3C%2Fa%3E%09f_autofe_min_308%09f_events_date_week_sin1_847b5db1%09f_financial_date_natural_gas_gap_a2b03e85%09min%0A%3Ca%20href%3D%27https%3A%2F%2Fupgini.com%2F%23data_sources%27%20target%3D%27_blank%27%20rel%3D%27noopener%20noreferrer%27%3ECalendar%20data%3C%2Fa%3E,%3Ca%20href%3D%27https%3A%2F%2Fupgini.com%2F%23data_sources%27%20target%3D%27_blank%27%20rel%3D%27noopener%20noreferrer%27%3EMarkets%20data%3C%2Fa%3E%09f_autofe_min_320%09f_events_date_week_sin1_847b5db1%09f_financial_date_usd_gap_615a0ec0%09min%0A%3Ca%20href%3D%27https%3A%2F%2Fupgini.com%2F%23data_sources%27%20target%3D%27_blank%27%20rel%3D%27noopener%20noreferrer%27%3ECalendar%20data%3C%2Fa%3E%09f_autofe_min_324%09f_events_date_week_sin3_0723e6e6%09f_events_date_year_cos1_9014a856%09min%0A%3Ca%20href%3D%27https%3A%2F%2Fupgini.com%2F%23data_sources%27%20target%3D%27_blank%27%20rel%3D%27noopener%20noreferrer%27%3ECalendar%20data%3C%2Fa%3E%09f_autofe_min_371%09f_events_date_year_cos1_9014a856%09f_events_date_year_sin2_59955ffd%09min%0A%3Ca%20href%3D%27https%3A%2F%2Fupgini.com%2F%23data_sources%27%20target%3D%27_blank%27%20rel%3D%27noopener%20noreferrer%27%3ECalendar%20data%3C%2Fa%3E%09f_autofe_min_372%09f_events_date_year_cos1_9014a856%09f_events_date_year_sin3_e4c1ec0e%09min%0A%3Ca%20href%3D%27https%3A%2F%2Fupgini.com%2F%23data_sources%27%20target%3D%27_blank%27%20rel%3D%27noopener%20noreferrer%27%3ECalendar%20data%3C%2Fa%3E,%3Ca%20href%3D%27https%3A%2F%2Fupgini.com%2F%23data_sources%27%20target%3D%27_blank%27%20rel%3D%27noopener%20noreferrer%27%3EMarkets%20data%3C%2Fa%3E%09f_autofe_min_383%09f_events_date_year_cos1_9014a856%09f_financial_date_nasdaq_daydiff_c49ab6fc%09min%0A'))>📂 Copy</button>\n",
              "                <a href='mailto:<Share with...>?subject=Relevant external data sources from Upgini.com&body=Sources%09Feature%20name%09Feature%201%09Feature%202%09Function%0A%3Ca%20href%3D%27https%3A%2F%2Fupgini.com%2F%23data_sources%27%20target%3D%27_blank%27%20rel%3D%27noopener%20noreferrer%27%3ECalendar%20data%3C%2Fa%3E,%3Ca%20href%3D%27https%3A%2F%2Fupgini.com%2F%23data_sources%27%20target%3D%27_blank%27%20rel%3D%27noopener%20noreferrer%27%3EMarkets%20data%3C%2Fa%3E%09f_autofe_div_2116%09f_events_date_week_cos1_f6a8c1fc%09f_financial_date_natural_gas_7d_to_7d_1y_shift_a5c3c07f%09div%0A%3Ca%20href%3D%27https%3A%2F%2Fupgini.com%2F%23data_sources%27%20target%3D%27_blank%27%20rel%3D%27noopener%20noreferrer%27%3ECalendar%20data%3C%2Fa%3E,%3Ca%20href%3D%27https%3A%2F%2Fupgini.com%2F%23data_sources%27%20target%3D%27_blank%27%20rel%3D%27noopener%20noreferrer%27%3EMarkets%20data%3C%2Fa%3E%09f_autofe_div_2189%09f_events_date_week_sin1_847b5db1%09f_financial_date_crude_oil_1f195998%09div%0A%3Ca%20href%3D%27https%3A%2F%2Fupgini.com%2F%23data_sources%27%20target%3D%27_blank%27%20rel%3D%27noopener%20noreferrer%27%3ECalendar%20data%3C%2Fa%3E,%3Ca%20href%3D%27https%3A%2F%2Fupgini.com%2F%23data_sources%27%20target%3D%27_blank%27%20rel%3D%27noopener%20noreferrer%27%3EMarkets%20data%3C%2Fa%3E%09f_autofe_div_2199%09f_events_date_week_sin1_847b5db1%09f_financial_date_natural_gas_7d_to_7d_1y_shift_a5c3c07f%09div%0A%3Ca%20href%3D%27https%3A%2F%2Fupgini.com%2F%23data_sources%27%20target%3D%27_blank%27%20rel%3D%27noopener%20noreferrer%27%3EMarkets%20data%3C%2Fa%3E%09f_autofe_div_2728%09f_financial_date_crude_oil_7d_to_1y_c3e0ad17%09f_financial_date_stoxx_7d_to_7d_1y_shift_abef6e91%09div%0A%3Ca%20href%3D%27https%3A%2F%2Fupgini.com%2F%23data_sources%27%20target%3D%27_blank%27%20rel%3D%27noopener%20noreferrer%27%3EMarkets%20data%3C%2Fa%3E%09f_autofe_div_2997%09f_financial_date_stoxx_043cbcd4%09f_financial_date_vix_6c8e6194%09div%0A%3Ca%20href%3D%27https%3A%2F%2Fupgini.com%2F%23data_sources%27%20target%3D%27_blank%27%20rel%3D%27noopener%20noreferrer%27%3ECalendar%20data%3C%2Fa%3E%09f_autofe_max_1147%09f_events_date_week_cos1_f6a8c1fc%09f_events_date_year_cos1_9014a856%09max%0A%3Ca%20href%3D%27https%3A%2F%2Fupgini.com%2F%23data_sources%27%20target%3D%27_blank%27%20rel%3D%27noopener%20noreferrer%27%3ECalendar%20data%3C%2Fa%3E%09f_autofe_max_1149%09f_events_date_week_cos1_f6a8c1fc%09f_events_date_year_cos2_7acbaf1b%09max%0A%3Ca%20href%3D%27https%3A%2F%2Fupgini.com%2F%23data_sources%27%20target%3D%27_blank%27%20rel%3D%27noopener%20noreferrer%27%3ECalendar%20data%3C%2Fa%3E%09f_autofe_max_1152%09f_events_date_week_cos1_f6a8c1fc%09f_events_date_year_cos6_7c1806a3%09max%0A%3Ca%20href%3D%27https%3A%2F%2Fupgini.com%2F%23data_sources%27%20target%3D%27_blank%27%20rel%3D%27noopener%20noreferrer%27%3ECalendar%20data%3C%2Fa%3E,%3Ca%20href%3D%27https%3A%2F%2Fupgini.com%2F%23data_sources%27%20target%3D%27_blank%27%20rel%3D%27noopener%20noreferrer%27%3EMarkets%20data%3C%2Fa%3E%09f_autofe_max_1173%09f_events_date_week_cos1_f6a8c1fc%09f_financial_date_silver_7d_to_1y_0ccfe462%09max%0A%3Ca%20href%3D%27https%3A%2F%2Fupgini.com%2F%23data_sources%27%20target%3D%27_blank%27%20rel%3D%27noopener%20noreferrer%27%3ECalendar%20data%3C%2Fa%3E%09f_autofe_max_1189%09f_events_date_week_cos3_7525fe31%09f_events_date_year_cos1_9014a856%09max%0A%3Ca%20href%3D%27https%3A%2F%2Fupgini.com%2F%23data_sources%27%20target%3D%27_blank%27%20rel%3D%27noopener%20noreferrer%27%3ECalendar%20data%3C%2Fa%3E%09f_autofe_max_1230%09f_events_date_week_sin1_847b5db1%09f_events_date_year_cos1_9014a856%09max%0A%3Ca%20href%3D%27https%3A%2F%2Fupgini.com%2F%23data_sources%27%20target%3D%27_blank%27%20rel%3D%27noopener%20noreferrer%27%3ECalendar%20data%3C%2Fa%3E%09f_autofe_max_1232%09f_events_date_week_sin1_847b5db1%09f_events_date_year_cos2_7acbaf1b%09max%0A%3Ca%20href%3D%27https%3A%2F%2Fupgini.com%2F%23data_sources%27%20target%3D%27_blank%27%20rel%3D%27noopener%20noreferrer%27%3ECalendar%20data%3C%2Fa%3E%09f_autofe_max_1237%09f_events_date_week_sin1_847b5db1%09f_events_date_year_sin1_3c44bc64%09max%0A%3Ca%20href%3D%27https%3A%2F%2Fupgini.com%2F%23data_sources%27%20target%3D%27_blank%27%20rel%3D%27noopener%20noreferrer%27%3ECalendar%20data%3C%2Fa%3E%09f_autofe_max_1239%09f_events_date_week_sin1_847b5db1%09f_events_date_year_sin3_e4c1ec0e%09max%0A%3Ca%20href%3D%27https%3A%2F%2Fupgini.com%2F%23data_sources%27%20target%3D%27_blank%27%20rel%3D%27noopener%20noreferrer%27%3ECalendar%20data%3C%2Fa%3E%09f_autofe_max_1277%09f_events_date_week_sin3_0723e6e6%09f_events_date_year_sin1_3c44bc64%09max%0A%3Ca%20href%3D%27https%3A%2F%2Fupgini.com%2F%23data_sources%27%20target%3D%27_blank%27%20rel%3D%27noopener%20noreferrer%27%3ECalendar%20data%3C%2Fa%3E%09f_autofe_max_1314%09f_events_date_year_cos1_9014a856%09f_events_date_year_cos6_7c1806a3%09max%0A%3Ca%20href%3D%27https%3A%2F%2Fupgini.com%2F%23data_sources%27%20target%3D%27_blank%27%20rel%3D%27noopener%20noreferrer%27%3EMarkets%20data%3C%2Fa%3E%09f_autofe_max_1894%09f_financial_date_nasdaq_7d_to_7d_1y_shift_4a4dd6ce%09f_financial_date_usd_7d_to_7d_1y_shift_35cb53e9%09max%0A%3Ca%20href%3D%27https%3A%2F%2Fupgini.com%2F%23data_sources%27%20target%3D%27_blank%27%20rel%3D%27noopener%20noreferrer%27%3ECalendar%20data%3C%2Fa%3E,%3Ca%20href%3D%27https%3A%2F%2Fupgini.com%2F%23data_sources%27%20target%3D%27_blank%27%20rel%3D%27noopener%20noreferrer%27%3EMarkets%20data%3C%2Fa%3E%09f_autofe_div_2199%09f_events_date_week_cos1_f6a8c1fc%09f_events_date_week_sin1_847b5db1%09%0A%3Ca%20href%3D%27https%3A%2F%2Fupgini.com%2F%23data_sources%27%20target%3D%27_blank%27%20rel%3D%27noopener%20noreferrer%27%3ECalendar%20data%3C%2Fa%3E%09f_autofe_min_243%09f_events_date_week_cos3_7525fe31%09f_events_date_year_cos1_9014a856%09min%0A%3Ca%20href%3D%27https%3A%2F%2Fupgini.com%2F%23data_sources%27%20target%3D%27_blank%27%20rel%3D%27noopener%20noreferrer%27%3ECalendar%20data%3C%2Fa%3E%09f_autofe_min_286%09f_events_date_week_sin1_847b5db1%09f_events_date_year_cos2_7acbaf1b%09min%0A%3Ca%20href%3D%27https%3A%2F%2Fupgini.com%2F%23data_sources%27%20target%3D%27_blank%27%20rel%3D%27noopener%20noreferrer%27%3ECalendar%20data%3C%2Fa%3E%09f_autofe_min_287%09f_events_date_week_sin1_847b5db1%09f_events_date_year_cos4_f5e6853f%09min%0A%3Ca%20href%3D%27https%3A%2F%2Fupgini.com%2F%23data_sources%27%20target%3D%27_blank%27%20rel%3D%27noopener%20noreferrer%27%3ECalendar%20data%3C%2Fa%3E%09f_autofe_min_291%09f_events_date_week_sin1_847b5db1%09f_events_date_year_sin1_3c44bc64%09min%0A%3Ca%20href%3D%27https%3A%2F%2Fupgini.com%2F%23data_sources%27%20target%3D%27_blank%27%20rel%3D%27noopener%20noreferrer%27%3ECalendar%20data%3C%2Fa%3E,%3Ca%20href%3D%27https%3A%2F%2Fupgini.com%2F%23data_sources%27%20target%3D%27_blank%27%20rel%3D%27noopener%20noreferrer%27%3EMarkets%20data%3C%2Fa%3E%09f_autofe_min_308%09f_events_date_week_sin1_847b5db1%09f_financial_date_natural_gas_gap_a2b03e85%09min%0A%3Ca%20href%3D%27https%3A%2F%2Fupgini.com%2F%23data_sources%27%20target%3D%27_blank%27%20rel%3D%27noopener%20noreferrer%27%3ECalendar%20data%3C%2Fa%3E,%3Ca%20href%3D%27https%3A%2F%2Fupgini.com%2F%23data_sources%27%20target%3D%27_blank%27%20rel%3D%27noopener%20noreferrer%27%3EMarkets%20data%3C%2Fa%3E%09f_autofe_min_320%09f_events_date_week_sin1_847b5db1%09f_financial_date_usd_gap_615a0ec0%09min%0A%3Ca%20href%3D%27https%3A%2F%2Fupgini.com%2F%23data_sources%27%20target%3D%27_blank%27%20rel%3D%27noopener%20noreferrer%27%3ECalendar%20data%3C%2Fa%3E%09f_autofe_min_324%09f_events_date_week_sin3_0723e6e6%09f_events_date_year_cos1_9014a856%09min%0A%3Ca%20href%3D%27https%3A%2F%2Fupgini.com%2F%23data_sources%27%20target%3D%27_blank%27%20rel%3D%27noopener%20noreferrer%27%3ECalendar%20data%3C%2Fa%3E%09f_autofe_min_371%09f_events_date_year_cos1_9014a856%09f_events_date_year_sin2_59955ffd%09min%0A%3Ca%20href%3D%27https%3A%2F%2Fupgini.com%2F%23data_sources%27%20target%3D%27_blank%27%20rel%3D%27noopener%20noreferrer%27%3ECalendar%20data%3C%2Fa%3E%09f_autofe_min_372%09f_events_date_year_cos1_9014a856%09f_events_date_year_sin3_e4c1ec0e%09min%0A%3Ca%20href%3D%27https%3A%2F%2Fupgini.com%2F%23data_sources%27%20target%3D%27_blank%27%20rel%3D%27noopener%20noreferrer%27%3ECalendar%20data%3C%2Fa%3E,%3Ca%20href%3D%27https%3A%2F%2Fupgini.com%2F%23data_sources%27%20target%3D%27_blank%27%20rel%3D%27noopener%20noreferrer%27%3EMarkets%20data%3C%2Fa%3E%09f_autofe_min_383%09f_events_date_year_cos1_9014a856%09f_financial_date_nasdaq_daydiff_c49ab6fc%09min%0A'>\n",
              "                    <button>📨 Share</button>\n",
              "                </a>\n",
              "            </div>\n",
              "            <table class='upgini-df'><thead><th>Sources</th><th>Feature name</th><th>Feature 1</th><th>Feature 2</th><th>Function</th></thead><tbody><tr><td class='upgini-text'><a href='https://upgini.com/#data_sources' target='_blank' rel='noopener noreferrer'>Calendar data</a>,<a href='https://upgini.com/#data_sources' target='_blank' rel='noopener noreferrer'>Markets data</a></td><td class='upgini-text'>f_autofe_div_2116</td><td class='upgini-text'>f_events_date_week_cos1_f6a8c1fc</td><td class='upgini-text'>f_financial_date_natural_gas_7d_to_7d_1y_shift_a5c3c07f</td><td class='upgini-text'>div</td></tr><tr><td class='upgini-text'><a href='https://upgini.com/#data_sources' target='_blank' rel='noopener noreferrer'>Calendar data</a>,<a href='https://upgini.com/#data_sources' target='_blank' rel='noopener noreferrer'>Markets data</a></td><td class='upgini-text'>f_autofe_div_2189</td><td class='upgini-text'>f_events_date_week_sin1_847b5db1</td><td class='upgini-text'>f_financial_date_crude_oil_1f195998</td><td class='upgini-text'>div</td></tr><tr><td class='upgini-text'><a href='https://upgini.com/#data_sources' target='_blank' rel='noopener noreferrer'>Calendar data</a>,<a href='https://upgini.com/#data_sources' target='_blank' rel='noopener noreferrer'>Markets data</a></td><td class='upgini-text'>f_autofe_div_2199</td><td class='upgini-text'>f_events_date_week_sin1_847b5db1</td><td class='upgini-text'>f_financial_date_natural_gas_7d_to_7d_1y_shift_a5c3c07f</td><td class='upgini-text'>div</td></tr><tr><td class='upgini-text'><a href='https://upgini.com/#data_sources' target='_blank' rel='noopener noreferrer'>Markets data</a></td><td class='upgini-text'>f_autofe_div_2728</td><td class='upgini-text'>f_financial_date_crude_oil_7d_to_1y_c3e0ad17</td><td class='upgini-text'>f_financial_date_stoxx_7d_to_7d_1y_shift_abef6e91</td><td class='upgini-text'>div</td></tr><tr><td class='upgini-text'><a href='https://upgini.com/#data_sources' target='_blank' rel='noopener noreferrer'>Markets data</a></td><td class='upgini-text'>f_autofe_div_2997</td><td class='upgini-text'>f_financial_date_stoxx_043cbcd4</td><td class='upgini-text'>f_financial_date_vix_6c8e6194</td><td class='upgini-text'>div</td></tr><tr><td class='upgini-text'><a href='https://upgini.com/#data_sources' target='_blank' rel='noopener noreferrer'>Calendar data</a></td><td class='upgini-text'>f_autofe_max_1147</td><td class='upgini-text'>f_events_date_week_cos1_f6a8c1fc</td><td class='upgini-text'>f_events_date_year_cos1_9014a856</td><td class='upgini-text'>max</td></tr><tr><td class='upgini-text'><a href='https://upgini.com/#data_sources' target='_blank' rel='noopener noreferrer'>Calendar data</a></td><td class='upgini-text'>f_autofe_max_1149</td><td class='upgini-text'>f_events_date_week_cos1_f6a8c1fc</td><td class='upgini-text'>f_events_date_year_cos2_7acbaf1b</td><td class='upgini-text'>max</td></tr><tr><td class='upgini-text'><a href='https://upgini.com/#data_sources' target='_blank' rel='noopener noreferrer'>Calendar data</a></td><td class='upgini-text'>f_autofe_max_1152</td><td class='upgini-text'>f_events_date_week_cos1_f6a8c1fc</td><td class='upgini-text'>f_events_date_year_cos6_7c1806a3</td><td class='upgini-text'>max</td></tr><tr><td class='upgini-text'><a href='https://upgini.com/#data_sources' target='_blank' rel='noopener noreferrer'>Calendar data</a>,<a href='https://upgini.com/#data_sources' target='_blank' rel='noopener noreferrer'>Markets data</a></td><td class='upgini-text'>f_autofe_max_1173</td><td class='upgini-text'>f_events_date_week_cos1_f6a8c1fc</td><td class='upgini-text'>f_financial_date_silver_7d_to_1y_0ccfe462</td><td class='upgini-text'>max</td></tr><tr><td class='upgini-text'><a href='https://upgini.com/#data_sources' target='_blank' rel='noopener noreferrer'>Calendar data</a></td><td class='upgini-text'>f_autofe_max_1189</td><td class='upgini-text'>f_events_date_week_cos3_7525fe31</td><td class='upgini-text'>f_events_date_year_cos1_9014a856</td><td class='upgini-text'>max</td></tr><tr><td class='upgini-text'><a href='https://upgini.com/#data_sources' target='_blank' rel='noopener noreferrer'>Calendar data</a></td><td class='upgini-text'>f_autofe_max_1230</td><td class='upgini-text'>f_events_date_week_sin1_847b5db1</td><td class='upgini-text'>f_events_date_year_cos1_9014a856</td><td class='upgini-text'>max</td></tr><tr><td class='upgini-text'><a href='https://upgini.com/#data_sources' target='_blank' rel='noopener noreferrer'>Calendar data</a></td><td class='upgini-text'>f_autofe_max_1232</td><td class='upgini-text'>f_events_date_week_sin1_847b5db1</td><td class='upgini-text'>f_events_date_year_cos2_7acbaf1b</td><td class='upgini-text'>max</td></tr><tr><td class='upgini-text'><a href='https://upgini.com/#data_sources' target='_blank' rel='noopener noreferrer'>Calendar data</a></td><td class='upgini-text'>f_autofe_max_1237</td><td class='upgini-text'>f_events_date_week_sin1_847b5db1</td><td class='upgini-text'>f_events_date_year_sin1_3c44bc64</td><td class='upgini-text'>max</td></tr><tr><td class='upgini-text'><a href='https://upgini.com/#data_sources' target='_blank' rel='noopener noreferrer'>Calendar data</a></td><td class='upgini-text'>f_autofe_max_1239</td><td class='upgini-text'>f_events_date_week_sin1_847b5db1</td><td class='upgini-text'>f_events_date_year_sin3_e4c1ec0e</td><td class='upgini-text'>max</td></tr><tr><td class='upgini-text'><a href='https://upgini.com/#data_sources' target='_blank' rel='noopener noreferrer'>Calendar data</a></td><td class='upgini-text'>f_autofe_max_1277</td><td class='upgini-text'>f_events_date_week_sin3_0723e6e6</td><td class='upgini-text'>f_events_date_year_sin1_3c44bc64</td><td class='upgini-text'>max</td></tr><tr><td class='upgini-text'><a href='https://upgini.com/#data_sources' target='_blank' rel='noopener noreferrer'>Calendar data</a></td><td class='upgini-text'>f_autofe_max_1314</td><td class='upgini-text'>f_events_date_year_cos1_9014a856</td><td class='upgini-text'>f_events_date_year_cos6_7c1806a3</td><td class='upgini-text'>max</td></tr><tr><td class='upgini-text'><a href='https://upgini.com/#data_sources' target='_blank' rel='noopener noreferrer'>Markets data</a></td><td class='upgini-text'>f_autofe_max_1894</td><td class='upgini-text'>f_financial_date_nasdaq_7d_to_7d_1y_shift_4a4dd6ce</td><td class='upgini-text'>f_financial_date_usd_7d_to_7d_1y_shift_35cb53e9</td><td class='upgini-text'>max</td></tr><tr><td class='upgini-text'><a href='https://upgini.com/#data_sources' target='_blank' rel='noopener noreferrer'>Calendar data</a>,<a href='https://upgini.com/#data_sources' target='_blank' rel='noopener noreferrer'>Markets data</a></td><td class='upgini-text'>f_autofe_div_2199</td><td class='upgini-text'>f_events_date_week_cos1_f6a8c1fc</td><td class='upgini-text'>f_events_date_week_sin1_847b5db1</td><td class='upgini-text'>&nbsp;</td></tr><tr><td class='upgini-text'><a href='https://upgini.com/#data_sources' target='_blank' rel='noopener noreferrer'>Calendar data</a></td><td class='upgini-text'>f_autofe_min_243</td><td class='upgini-text'>f_events_date_week_cos3_7525fe31</td><td class='upgini-text'>f_events_date_year_cos1_9014a856</td><td class='upgini-text'>min</td></tr><tr><td class='upgini-text'><a href='https://upgini.com/#data_sources' target='_blank' rel='noopener noreferrer'>Calendar data</a></td><td class='upgini-text'>f_autofe_min_286</td><td class='upgini-text'>f_events_date_week_sin1_847b5db1</td><td class='upgini-text'>f_events_date_year_cos2_7acbaf1b</td><td class='upgini-text'>min</td></tr><tr><td class='upgini-text'><a href='https://upgini.com/#data_sources' target='_blank' rel='noopener noreferrer'>Calendar data</a></td><td class='upgini-text'>f_autofe_min_287</td><td class='upgini-text'>f_events_date_week_sin1_847b5db1</td><td class='upgini-text'>f_events_date_year_cos4_f5e6853f</td><td class='upgini-text'>min</td></tr><tr><td class='upgini-text'><a href='https://upgini.com/#data_sources' target='_blank' rel='noopener noreferrer'>Calendar data</a></td><td class='upgini-text'>f_autofe_min_291</td><td class='upgini-text'>f_events_date_week_sin1_847b5db1</td><td class='upgini-text'>f_events_date_year_sin1_3c44bc64</td><td class='upgini-text'>min</td></tr><tr><td class='upgini-text'><a href='https://upgini.com/#data_sources' target='_blank' rel='noopener noreferrer'>Calendar data</a>,<a href='https://upgini.com/#data_sources' target='_blank' rel='noopener noreferrer'>Markets data</a></td><td class='upgini-text'>f_autofe_min_308</td><td class='upgini-text'>f_events_date_week_sin1_847b5db1</td><td class='upgini-text'>f_financial_date_natural_gas_gap_a2b03e85</td><td class='upgini-text'>min</td></tr><tr><td class='upgini-text'><a href='https://upgini.com/#data_sources' target='_blank' rel='noopener noreferrer'>Calendar data</a>,<a href='https://upgini.com/#data_sources' target='_blank' rel='noopener noreferrer'>Markets data</a></td><td class='upgini-text'>f_autofe_min_320</td><td class='upgini-text'>f_events_date_week_sin1_847b5db1</td><td class='upgini-text'>f_financial_date_usd_gap_615a0ec0</td><td class='upgini-text'>min</td></tr><tr><td class='upgini-text'><a href='https://upgini.com/#data_sources' target='_blank' rel='noopener noreferrer'>Calendar data</a></td><td class='upgini-text'>f_autofe_min_324</td><td class='upgini-text'>f_events_date_week_sin3_0723e6e6</td><td class='upgini-text'>f_events_date_year_cos1_9014a856</td><td class='upgini-text'>min</td></tr><tr><td class='upgini-text'><a href='https://upgini.com/#data_sources' target='_blank' rel='noopener noreferrer'>Calendar data</a></td><td class='upgini-text'>f_autofe_min_371</td><td class='upgini-text'>f_events_date_year_cos1_9014a856</td><td class='upgini-text'>f_events_date_year_sin2_59955ffd</td><td class='upgini-text'>min</td></tr><tr><td class='upgini-text'><a href='https://upgini.com/#data_sources' target='_blank' rel='noopener noreferrer'>Calendar data</a></td><td class='upgini-text'>f_autofe_min_372</td><td class='upgini-text'>f_events_date_year_cos1_9014a856</td><td class='upgini-text'>f_events_date_year_sin3_e4c1ec0e</td><td class='upgini-text'>min</td></tr><tr><td class='upgini-text'><a href='https://upgini.com/#data_sources' target='_blank' rel='noopener noreferrer'>Calendar data</a>,<a href='https://upgini.com/#data_sources' target='_blank' rel='noopener noreferrer'>Markets data</a></td><td class='upgini-text'>f_autofe_min_383</td><td class='upgini-text'>f_events_date_year_cos1_9014a856</td><td class='upgini-text'>f_financial_date_nasdaq_daydiff_c49ab6fc</td><td class='upgini-text'>min</td></tr></tbody></table>\n",
              "        </div>\n",
              "        "
            ]
          },
          "metadata": {}
        },
        {
          "output_type": "stream",
          "name": "stdout",
          "text": [
            "We detected 38 outliers in your sample.\n",
            "Examples of outliers with maximum value of target:\n",
            "21    189\n",
            "18    180\n",
            "11    175\n",
            "Name: target, dtype: int64\n",
            "Outliers will be excluded during the metrics calculation.\n",
            "Before dropping target outliers size: 10000\n",
            "After dropping target outliers size: 9962\n",
            "Calculating accuracy uplift after enrichment...\n",
            "\n",
            "WARNING: y distributions from the training sample and eval_set differ according to the Kolmogorov-Smirnov test,\n",
            "which makes metrics between the train and eval_set incomparable.\n"
          ]
        },
        {
          "output_type": "display_data",
          "data": {
            "text/plain": [
              "<IPython.core.display.HTML object>"
            ],
            "text/html": [
              "<style>\n",
              "            .upgini-df thead th {\n",
              "                font-weight:bold;\n",
              "                text-align: center;\n",
              "                padding: 0.5em;\n",
              "                border-bottom: 2px solid black;\n",
              "            }\n",
              "\n",
              "            .upgini-df tbody td {\n",
              "                padding: 0.5em;\n",
              "            }\n",
              "\n",
              "            .upgini-df tbody tr:nth-child(odd) {\n",
              "                background-color: #ffffff;\n",
              "            }\n",
              "\n",
              "            .upgini-df tbody tr:nth-child(even) {\n",
              "                background-color: #f2f2f2;\n",
              "            }\n",
              "\n",
              "            .upgini-text {\n",
              "                text-align: left;\n",
              "            }\n",
              "\n",
              "            .upgini-number {\n",
              "                text-align: center;\n",
              "            }\n",
              "        </style>\n",
              "        <h2>Accuracy after enrichment</h2>\n",
              "        <div style=\"display:flex; flex-direction:column; align-items:flex-end; width: fit-content;\">\n",
              "            <div style=\"text-align: right\">\n",
              "                <button onclick=navigator.clipboard.writeText(decodeURI('Dataset%20type%09Rows%09Mean%20target%09Baseline%20mean_squared_error%09Enriched%20mean_squared_error%09Uplift%0ATrain%097941%0950.5654%09316.3057752835741%09209.05266402747415%09107.25311125609997%0AEval%201%092021%0958.1435%09495.9609593415704%09400.2345672933599%0995.72639204821053%0A'))>📂 Copy</button>\n",
              "                <a href='mailto:<Share with...>?subject=Relevant external data sources from Upgini.com&body=Dataset%20type%09Rows%09Mean%20target%09Baseline%20mean_squared_error%09Enriched%20mean_squared_error%09Uplift%0ATrain%097941%0950.5654%09316.3057752835741%09209.05266402747415%09107.25311125609997%0AEval%201%092021%0958.1435%09495.9609593415704%09400.2345672933599%0995.72639204821053%0A'>\n",
              "                    <button>📨 Share</button>\n",
              "                </a>\n",
              "            </div>\n",
              "            <table class='upgini-df'><thead><th>Dataset type</th><th>Rows</th><th>Mean target</th><th>Baseline mean_squared_error</th><th>Enriched mean_squared_error</th><th>Uplift</th></thead><tbody><tr><td class='upgini-text'>Train</td><td class='upgini-number'>7941</td><td class='upgini-number'>50.5654</td><td class='upgini-number'>316.3058</td><td class='upgini-number'>209.0527</td><td class='upgini-number'>107.2531</td></tr><tr><td class='upgini-text'>Eval 1</td><td class='upgini-number'>2021</td><td class='upgini-number'>58.1435</td><td class='upgini-number'>495.9610</td><td class='upgini-number'>400.2346</td><td class='upgini-number'>95.7264</td></tr></tbody></table>\n",
              "        </div>\n",
              "        "
            ]
          },
          "metadata": {}
        },
        {
          "output_type": "display_data",
          "data": {
            "text/plain": [
              "<IPython.core.display.HTML object>"
            ],
            "text/html": [
              "<a download=\"upgini-report-0ca50e83-5caa-40e1-bf95-48cf44852d06.pdf\" href=\"data:application/pdf;base64,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\" target=\"_blank\">\n",
              "        <button>📊 Download PDF report</button></a>"
            ]
          },
          "metadata": {}
        }
      ]
    },
    {
      "cell_type": "code",
      "source": [
        "#Building the model\n",
        "model = CatBoostRegressor(verbose=False, allow_writing_files=False, random_state=42)\n",
        "\n",
        "enricher.calculate_metrics(\n",
        "    train_features,train_target,\n",
        "    eval_set=[(test_features, test_target)],\n",
        "    estimator = model,\n",
        "    scoring = \"mean_absolute_percentage_error\"\n",
        ")"
      ],
      "metadata": {
        "colab": {
          "base_uri": "https://localhost:8080/",
          "height": 221
        },
        "id": "aBLKDEInvXYP",
        "outputId": "2bfa9f37-2c87-4abe-d37d-bd2a43429821"
      },
      "execution_count": 14,
      "outputs": [
        {
          "output_type": "stream",
          "name": "stdout",
          "text": [
            "Calculating accuracy uplift after enrichment...\n",
            "-\r\n",
            "WARNING: y distributions from the training sample and eval_set differ according to the Kolmogorov-Smirnov test,\n",
            "which makes metrics between the train and eval_set incomparable.\n"
          ]
        },
        {
          "output_type": "execute_result",
          "data": {
            "text/plain": [
              "  Dataset type  Rows  Mean target  Baseline mean_absolute_percentage_error  \\\n",
              "0        Train  7941      50.5654                                 0.257336   \n",
              "1       Eval 1  2021      58.1435                                 0.254882   \n",
              "\n",
              "   Enriched mean_absolute_percentage_error    Uplift  \n",
              "0                                 0.167477  0.089859  \n",
              "1                                 0.192129  0.062753  "
            ],
            "text/html": [
              "\n",
              "  <div id=\"df-ed74a8ef-2543-4154-a916-dc835e914579\" class=\"colab-df-container\">\n",
              "    <div>\n",
              "<style scoped>\n",
              "    .dataframe tbody tr th:only-of-type {\n",
              "        vertical-align: middle;\n",
              "    }\n",
              "\n",
              "    .dataframe tbody tr th {\n",
              "        vertical-align: top;\n",
              "    }\n",
              "\n",
              "    .dataframe thead th {\n",
              "        text-align: right;\n",
              "    }\n",
              "</style>\n",
              "<table border=\"1\" class=\"dataframe\">\n",
              "  <thead>\n",
              "    <tr style=\"text-align: right;\">\n",
              "      <th></th>\n",
              "      <th>Dataset type</th>\n",
              "      <th>Rows</th>\n",
              "      <th>Mean target</th>\n",
              "      <th>Baseline mean_absolute_percentage_error</th>\n",
              "      <th>Enriched mean_absolute_percentage_error</th>\n",
              "      <th>Uplift</th>\n",
              "    </tr>\n",
              "  </thead>\n",
              "  <tbody>\n",
              "    <tr>\n",
              "      <th>0</th>\n",
              "      <td>Train</td>\n",
              "      <td>7941</td>\n",
              "      <td>50.5654</td>\n",
              "      <td>0.257336</td>\n",
              "      <td>0.167477</td>\n",
              "      <td>0.089859</td>\n",
              "    </tr>\n",
              "    <tr>\n",
              "      <th>1</th>\n",
              "      <td>Eval 1</td>\n",
              "      <td>2021</td>\n",
              "      <td>58.1435</td>\n",
              "      <td>0.254882</td>\n",
              "      <td>0.192129</td>\n",
              "      <td>0.062753</td>\n",
              "    </tr>\n",
              "  </tbody>\n",
              "</table>\n",
              "</div>\n",
              "    <div class=\"colab-df-buttons\">\n",
              "\n",
              "  <div class=\"colab-df-container\">\n",
              "    <button class=\"colab-df-convert\" onclick=\"convertToInteractive('df-ed74a8ef-2543-4154-a916-dc835e914579')\"\n",
              "            title=\"Convert this dataframe to an interactive table.\"\n",
              "            style=\"display:none;\">\n",
              "\n",
              "  <svg xmlns=\"http://www.w3.org/2000/svg\" height=\"24px\" viewBox=\"0 -960 960 960\">\n",
              "    <path d=\"M120-120v-720h720v720H120Zm60-500h600v-160H180v160Zm220 220h160v-160H400v160Zm0 220h160v-160H400v160ZM180-400h160v-160H180v160Zm440 0h160v-160H620v160ZM180-180h160v-160H180v160Zm440 0h160v-160H620v160Z\"/>\n",
              "  </svg>\n",
              "    </button>\n",
              "\n",
              "  <style>\n",
              "    .colab-df-container {\n",
              "      display:flex;\n",
              "      gap: 12px;\n",
              "    }\n",
              "\n",
              "    .colab-df-convert {\n",
              "      background-color: #E8F0FE;\n",
              "      border: none;\n",
              "      border-radius: 50%;\n",
              "      cursor: pointer;\n",
              "      display: none;\n",
              "      fill: #1967D2;\n",
              "      height: 32px;\n",
              "      padding: 0 0 0 0;\n",
              "      width: 32px;\n",
              "    }\n",
              "\n",
              "    .colab-df-convert:hover {\n",
              "      background-color: #E2EBFA;\n",
              "      box-shadow: 0px 1px 2px rgba(60, 64, 67, 0.3), 0px 1px 3px 1px rgba(60, 64, 67, 0.15);\n",
              "      fill: #174EA6;\n",
              "    }\n",
              "\n",
              "    .colab-df-buttons div {\n",
              "      margin-bottom: 4px;\n",
              "    }\n",
              "\n",
              "    [theme=dark] .colab-df-convert {\n",
              "      background-color: #3B4455;\n",
              "      fill: #D2E3FC;\n",
              "    }\n",
              "\n",
              "    [theme=dark] .colab-df-convert:hover {\n",
              "      background-color: #434B5C;\n",
              "      box-shadow: 0px 1px 3px 1px rgba(0, 0, 0, 0.15);\n",
              "      filter: drop-shadow(0px 1px 2px rgba(0, 0, 0, 0.3));\n",
              "      fill: #FFFFFF;\n",
              "    }\n",
              "  </style>\n",
              "\n",
              "    <script>\n",
              "      const buttonEl =\n",
              "        document.querySelector('#df-ed74a8ef-2543-4154-a916-dc835e914579 button.colab-df-convert');\n",
              "      buttonEl.style.display =\n",
              "        google.colab.kernel.accessAllowed ? 'block' : 'none';\n",
              "\n",
              "      async function convertToInteractive(key) {\n",
              "        const element = document.querySelector('#df-ed74a8ef-2543-4154-a916-dc835e914579');\n",
              "        const dataTable =\n",
              "          await google.colab.kernel.invokeFunction('convertToInteractive',\n",
              "                                                    [key], {});\n",
              "        if (!dataTable) return;\n",
              "\n",
              "        const docLinkHtml = 'Like what you see? Visit the ' +\n",
              "          '<a target=\"_blank\" href=https://colab.research.google.com/notebooks/data_table.ipynb>data table notebook</a>'\n",
              "          + ' to learn more about interactive tables.';\n",
              "        element.innerHTML = '';\n",
              "        dataTable['output_type'] = 'display_data';\n",
              "        await google.colab.output.renderOutput(dataTable, element);\n",
              "        const docLink = document.createElement('div');\n",
              "        docLink.innerHTML = docLinkHtml;\n",
              "        element.appendChild(docLink);\n",
              "      }\n",
              "    </script>\n",
              "  </div>\n",
              "\n",
              "\n",
              "<div id=\"df-faa4f946-64bb-4ef6-9e2d-ddbcd880a229\">\n",
              "  <button class=\"colab-df-quickchart\" onclick=\"quickchart('df-faa4f946-64bb-4ef6-9e2d-ddbcd880a229')\"\n",
              "            title=\"Suggest charts\"\n",
              "            style=\"display:none;\">\n",
              "\n",
              "<svg xmlns=\"http://www.w3.org/2000/svg\" height=\"24px\"viewBox=\"0 0 24 24\"\n",
              "     width=\"24px\">\n",
              "    <g>\n",
              "        <path d=\"M19 3H5c-1.1 0-2 .9-2 2v14c0 1.1.9 2 2 2h14c1.1 0 2-.9 2-2V5c0-1.1-.9-2-2-2zM9 17H7v-7h2v7zm4 0h-2V7h2v10zm4 0h-2v-4h2v4z\"/>\n",
              "    </g>\n",
              "</svg>\n",
              "  </button>\n",
              "\n",
              "<style>\n",
              "  .colab-df-quickchart {\n",
              "      --bg-color: #E8F0FE;\n",
              "      --fill-color: #1967D2;\n",
              "      --hover-bg-color: #E2EBFA;\n",
              "      --hover-fill-color: #174EA6;\n",
              "      --disabled-fill-color: #AAA;\n",
              "      --disabled-bg-color: #DDD;\n",
              "  }\n",
              "\n",
              "  [theme=dark] .colab-df-quickchart {\n",
              "      --bg-color: #3B4455;\n",
              "      --fill-color: #D2E3FC;\n",
              "      --hover-bg-color: #434B5C;\n",
              "      --hover-fill-color: #FFFFFF;\n",
              "      --disabled-bg-color: #3B4455;\n",
              "      --disabled-fill-color: #666;\n",
              "  }\n",
              "\n",
              "  .colab-df-quickchart {\n",
              "    background-color: var(--bg-color);\n",
              "    border: none;\n",
              "    border-radius: 50%;\n",
              "    cursor: pointer;\n",
              "    display: none;\n",
              "    fill: var(--fill-color);\n",
              "    height: 32px;\n",
              "    padding: 0;\n",
              "    width: 32px;\n",
              "  }\n",
              "\n",
              "  .colab-df-quickchart:hover {\n",
              "    background-color: var(--hover-bg-color);\n",
              "    box-shadow: 0 1px 2px rgba(60, 64, 67, 0.3), 0 1px 3px 1px rgba(60, 64, 67, 0.15);\n",
              "    fill: var(--button-hover-fill-color);\n",
              "  }\n",
              "\n",
              "  .colab-df-quickchart-complete:disabled,\n",
              "  .colab-df-quickchart-complete:disabled:hover {\n",
              "    background-color: var(--disabled-bg-color);\n",
              "    fill: var(--disabled-fill-color);\n",
              "    box-shadow: none;\n",
              "  }\n",
              "\n",
              "  .colab-df-spinner {\n",
              "    border: 2px solid var(--fill-color);\n",
              "    border-color: transparent;\n",
              "    border-bottom-color: var(--fill-color);\n",
              "    animation:\n",
              "      spin 1s steps(1) infinite;\n",
              "  }\n",
              "\n",
              "  @keyframes spin {\n",
              "    0% {\n",
              "      border-color: transparent;\n",
              "      border-bottom-color: var(--fill-color);\n",
              "      border-left-color: var(--fill-color);\n",
              "    }\n",
              "    20% {\n",
              "      border-color: transparent;\n",
              "      border-left-color: var(--fill-color);\n",
              "      border-top-color: var(--fill-color);\n",
              "    }\n",
              "    30% {\n",
              "      border-color: transparent;\n",
              "      border-left-color: var(--fill-color);\n",
              "      border-top-color: var(--fill-color);\n",
              "      border-right-color: var(--fill-color);\n",
              "    }\n",
              "    40% {\n",
              "      border-color: transparent;\n",
              "      border-right-color: var(--fill-color);\n",
              "      border-top-color: var(--fill-color);\n",
              "    }\n",
              "    60% {\n",
              "      border-color: transparent;\n",
              "      border-right-color: var(--fill-color);\n",
              "    }\n",
              "    80% {\n",
              "      border-color: transparent;\n",
              "      border-right-color: var(--fill-color);\n",
              "      border-bottom-color: var(--fill-color);\n",
              "    }\n",
              "    90% {\n",
              "      border-color: transparent;\n",
              "      border-bottom-color: var(--fill-color);\n",
              "    }\n",
              "  }\n",
              "</style>\n",
              "\n",
              "  <script>\n",
              "    async function quickchart(key) {\n",
              "      const quickchartButtonEl =\n",
              "        document.querySelector('#' + key + ' button');\n",
              "      quickchartButtonEl.disabled = true;  // To prevent multiple clicks.\n",
              "      quickchartButtonEl.classList.add('colab-df-spinner');\n",
              "      try {\n",
              "        const charts = await google.colab.kernel.invokeFunction(\n",
              "            'suggestCharts', [key], {});\n",
              "      } catch (error) {\n",
              "        console.error('Error during call to suggestCharts:', error);\n",
              "      }\n",
              "      quickchartButtonEl.classList.remove('colab-df-spinner');\n",
              "      quickchartButtonEl.classList.add('colab-df-quickchart-complete');\n",
              "    }\n",
              "    (() => {\n",
              "      let quickchartButtonEl =\n",
              "        document.querySelector('#df-faa4f946-64bb-4ef6-9e2d-ddbcd880a229 button');\n",
              "      quickchartButtonEl.style.display =\n",
              "        google.colab.kernel.accessAllowed ? 'block' : 'none';\n",
              "    })();\n",
              "  </script>\n",
              "</div>\n",
              "    </div>\n",
              "  </div>\n"
            ]
          },
          "metadata": {},
          "execution_count": 14
        }
      ]
    },
    {
      "cell_type": "code",
      "source": [
        "enriched_train_features = enricher.transform(train_features, keep_input=True)\n",
        "enriched_test_features = enricher.transform(test_features, keep_input=True)\n",
        "enriched_train_features.head()"
      ],
      "metadata": {
        "colab": {
          "base_uri": "https://localhost:8080/",
          "height": 860
        },
        "id": "xfmcxcbdyyI0",
        "outputId": "170baa05-602b-4358-e627-cc980bb8c362"
      },
      "execution_count": 15,
      "outputs": [
        {
          "output_type": "display_data",
          "data": {
            "text/plain": [
              "[============================================================] 100% Finished"
            ],
            "text/html": [
              "<progress style='width:60ex' max='100' value='100'></progress>  100% Finished</br>"
            ]
          },
          "metadata": {}
        },
        {
          "output_type": "stream",
          "name": "stdout",
          "text": [
            "You use Trial access to Upgini data enrichment. Limit for Trial: 10000 rows. You have already enriched: 0 rows.\n",
            "\n",
            "WARNING: Search started with DATE search key only\n",
            "Try to add other keys like the COUNTRY, POSTAL_CODE, PHONE NUMBER, EMAIL/HEM, IPv4 to your training dataset\n",
            "for search through all the available data sources.\n",
            "See docs https://github.com/upgini/upgini#-total-239-countries-and-up-to-41-years-of-history\n"
          ]
        },
        {
          "output_type": "display_data",
          "data": {
            "text/plain": [
              "<IPython.core.display.HTML object>"
            ],
            "text/html": [
              "<table><tr><th style='font-weight:bold'>Column name</th><th style='font-weight:bold'>Status</th><th style='font-weight:bold'>Errors</th></tr><tr><td>date</td><td style='background-color:#DAF7A6;color:black'>All valid</td><td>-</td></tr></table>"
            ]
          },
          "metadata": {}
        },
        {
          "output_type": "stream",
          "name": "stdout",
          "text": [
            "\n",
            "Running search request, search_id=7948113e-0155-4ec3-bd1d-72eecf04f563\n",
            "We'll send email notification once it's completed, just use your personal api_key from profile.upgini.com\n",
            "\n",
            "Retrieving selected features from data sources...\n"
          ]
        },
        {
          "output_type": "display_data",
          "data": {
            "text/plain": [
              "[============================================================] 100% Finished"
            ],
            "text/html": [
              "<progress style='width:60ex' max='100' value='100'></progress>  100% Finished</br>"
            ]
          },
          "metadata": {}
        },
        {
          "output_type": "stream",
          "name": "stdout",
          "text": [
            "You use Trial access to Upgini data enrichment. Limit for Trial: 10000 rows. You have already enriched: 0 rows.\n",
            "\n",
            "WARNING: Search started with DATE search key only\n",
            "Try to add other keys like the COUNTRY, POSTAL_CODE, PHONE NUMBER, EMAIL/HEM, IPv4 to your training dataset\n",
            "for search through all the available data sources.\n",
            "See docs https://github.com/upgini/upgini#-total-239-countries-and-up-to-41-years-of-history\n"
          ]
        },
        {
          "output_type": "display_data",
          "data": {
            "text/plain": [
              "<IPython.core.display.HTML object>"
            ],
            "text/html": [
              "<table><tr><th style='font-weight:bold'>Column name</th><th style='font-weight:bold'>Status</th><th style='font-weight:bold'>Errors</th></tr><tr><td>date</td><td style='background-color:#DAF7A6;color:black'>All valid</td><td>-</td></tr></table>"
            ]
          },
          "metadata": {}
        },
        {
          "output_type": "stream",
          "name": "stdout",
          "text": [
            "\n",
            "Running search request, search_id=c36f7d36-61fd-406a-a7ce-7200f319ab59\n",
            "We'll send email notification once it's completed, just use your personal api_key from profile.upgini.com\n",
            "\n",
            "Retrieving selected features from data sources...\n"
          ]
        },
        {
          "output_type": "execute_result",
          "data": {
            "text/plain": [
              "        date store item  f_weather_date_weather_umap_48_b39cd0c4  \\\n",
              "0 2013-01-01    10   42                                 4.540985   \n",
              "1 2013-01-01     9   41                                 4.540985   \n",
              "2 2013-01-01     6   33                                 4.540985   \n",
              "3 2013-01-01     6   36                                 4.540985   \n",
              "4 2013-01-02     3   48                                 4.573898   \n",
              "\n",
              "   f_events_date_year_cos1_9014a856  f_autofe_div_2189  \\\n",
              "0                          0.985220           0.008515   \n",
              "1                          0.985220           0.008515   \n",
              "2                          0.985220           0.008515   \n",
              "3                          0.985220           0.008515   \n",
              "4                          0.982126           0.010618   \n",
              "\n",
              "   f_weather_date_weather_umap_31_fa6d9a99  \\\n",
              "0                                 4.712653   \n",
              "1                                 4.712653   \n",
              "2                                 4.712653   \n",
              "3                                 4.712653   \n",
              "4                                 4.711289   \n",
              "\n",
              "   f_weather_date_weather_umap_0_1ff14cbf  f_autofe_min_320  f_autofe_min_372  \\\n",
              "0                                3.756893         -0.059998          0.493776   \n",
              "1                                3.756893         -0.059998          0.493776   \n",
              "2                                3.756893         -0.059998          0.493776   \n",
              "3                                3.756893         -0.059998          0.493776   \n",
              "4                                3.754476          0.000000          0.538005   \n",
              "\n",
              "   ...  f_weather_date_weather_umap_8_faa85dbb  \\\n",
              "0  ...                                4.928745   \n",
              "1  ...                                4.928745   \n",
              "2  ...                                4.928745   \n",
              "3  ...                                4.928745   \n",
              "4  ...                                4.876785   \n",
              "\n",
              "   f_economic_date_cbpol_pca_2_33d6e3fc  f_autofe_max_1173  \\\n",
              "0                             -0.938709           0.963323   \n",
              "1                             -0.938709           0.963323   \n",
              "2                             -0.938709           0.963323   \n",
              "3                             -0.938709           0.963323   \n",
              "4                             -0.938709           0.964661   \n",
              "\n",
              "   f_economic_date_cbpol_pca_9_bde660b4  \\\n",
              "0                             -0.332055   \n",
              "1                             -0.332055   \n",
              "2                             -0.332055   \n",
              "3                             -0.332055   \n",
              "4                             -0.332055   \n",
              "\n",
              "   f_weather_date_weather_umap_22_0342ee9e  f_autofe_div_2997  \\\n",
              "0                                 4.806711          15.470588   \n",
              "1                                 4.806711          15.470588   \n",
              "2                                 4.806711          15.470588   \n",
              "3                                 4.806711          15.470588   \n",
              "4                                 4.773725          15.470588   \n",
              "\n",
              "   f_autofe_min_287  f_autofe_div_2728  f_autofe_min_324  \\\n",
              "0          0.772157           0.836041          0.433884   \n",
              "1          0.772157           0.836041          0.433884   \n",
              "2          0.772157           0.836041          0.433884   \n",
              "3          0.772157           0.836041          0.433884   \n",
              "4          0.726608           0.842699         -0.781831   \n",
              "\n",
              "   f_weather_date_weather_umap_44_a0c8c0fe  \n",
              "0                                 5.175736  \n",
              "1                                 5.175736  \n",
              "2                                 5.175736  \n",
              "3                                 5.175736  \n",
              "4                                 5.164310  \n",
              "\n",
              "[5 rows x 35 columns]"
            ],
            "text/html": [
              "\n",
              "  <div id=\"df-212a861b-b3d8-4def-87cf-3d9fcb045760\" class=\"colab-df-container\">\n",
              "    <div>\n",
              "<style scoped>\n",
              "    .dataframe tbody tr th:only-of-type {\n",
              "        vertical-align: middle;\n",
              "    }\n",
              "\n",
              "    .dataframe tbody tr th {\n",
              "        vertical-align: top;\n",
              "    }\n",
              "\n",
              "    .dataframe thead th {\n",
              "        text-align: right;\n",
              "    }\n",
              "</style>\n",
              "<table border=\"1\" class=\"dataframe\">\n",
              "  <thead>\n",
              "    <tr style=\"text-align: right;\">\n",
              "      <th></th>\n",
              "      <th>date</th>\n",
              "      <th>store</th>\n",
              "      <th>item</th>\n",
              "      <th>f_weather_date_weather_umap_48_b39cd0c4</th>\n",
              "      <th>f_events_date_year_cos1_9014a856</th>\n",
              "      <th>f_autofe_div_2189</th>\n",
              "      <th>f_weather_date_weather_umap_31_fa6d9a99</th>\n",
              "      <th>f_weather_date_weather_umap_0_1ff14cbf</th>\n",
              "      <th>f_autofe_min_320</th>\n",
              "      <th>f_autofe_min_372</th>\n",
              "      <th>...</th>\n",
              "      <th>f_weather_date_weather_umap_8_faa85dbb</th>\n",
              "      <th>f_economic_date_cbpol_pca_2_33d6e3fc</th>\n",
              "      <th>f_autofe_max_1173</th>\n",
              "      <th>f_economic_date_cbpol_pca_9_bde660b4</th>\n",
              "      <th>f_weather_date_weather_umap_22_0342ee9e</th>\n",
              "      <th>f_autofe_div_2997</th>\n",
              "      <th>f_autofe_min_287</th>\n",
              "      <th>f_autofe_div_2728</th>\n",
              "      <th>f_autofe_min_324</th>\n",
              "      <th>f_weather_date_weather_umap_44_a0c8c0fe</th>\n",
              "    </tr>\n",
              "  </thead>\n",
              "  <tbody>\n",
              "    <tr>\n",
              "      <th>0</th>\n",
              "      <td>2013-01-01</td>\n",
              "      <td>10</td>\n",
              "      <td>42</td>\n",
              "      <td>4.540985</td>\n",
              "      <td>0.985220</td>\n",
              "      <td>0.008515</td>\n",
              "      <td>4.712653</td>\n",
              "      <td>3.756893</td>\n",
              "      <td>-0.059998</td>\n",
              "      <td>0.493776</td>\n",
              "      <td>...</td>\n",
              "      <td>4.928745</td>\n",
              "      <td>-0.938709</td>\n",
              "      <td>0.963323</td>\n",
              "      <td>-0.332055</td>\n",
              "      <td>4.806711</td>\n",
              "      <td>15.470588</td>\n",
              "      <td>0.772157</td>\n",
              "      <td>0.836041</td>\n",
              "      <td>0.433884</td>\n",
              "      <td>5.175736</td>\n",
              "    </tr>\n",
              "    <tr>\n",
              "      <th>1</th>\n",
              "      <td>2013-01-01</td>\n",
              "      <td>9</td>\n",
              "      <td>41</td>\n",
              "      <td>4.540985</td>\n",
              "      <td>0.985220</td>\n",
              "      <td>0.008515</td>\n",
              "      <td>4.712653</td>\n",
              "      <td>3.756893</td>\n",
              "      <td>-0.059998</td>\n",
              "      <td>0.493776</td>\n",
              "      <td>...</td>\n",
              "      <td>4.928745</td>\n",
              "      <td>-0.938709</td>\n",
              "      <td>0.963323</td>\n",
              "      <td>-0.332055</td>\n",
              "      <td>4.806711</td>\n",
              "      <td>15.470588</td>\n",
              "      <td>0.772157</td>\n",
              "      <td>0.836041</td>\n",
              "      <td>0.433884</td>\n",
              "      <td>5.175736</td>\n",
              "    </tr>\n",
              "    <tr>\n",
              "      <th>2</th>\n",
              "      <td>2013-01-01</td>\n",
              "      <td>6</td>\n",
              "      <td>33</td>\n",
              "      <td>4.540985</td>\n",
              "      <td>0.985220</td>\n",
              "      <td>0.008515</td>\n",
              "      <td>4.712653</td>\n",
              "      <td>3.756893</td>\n",
              "      <td>-0.059998</td>\n",
              "      <td>0.493776</td>\n",
              "      <td>...</td>\n",
              "      <td>4.928745</td>\n",
              "      <td>-0.938709</td>\n",
              "      <td>0.963323</td>\n",
              "      <td>-0.332055</td>\n",
              "      <td>4.806711</td>\n",
              "      <td>15.470588</td>\n",
              "      <td>0.772157</td>\n",
              "      <td>0.836041</td>\n",
              "      <td>0.433884</td>\n",
              "      <td>5.175736</td>\n",
              "    </tr>\n",
              "    <tr>\n",
              "      <th>3</th>\n",
              "      <td>2013-01-01</td>\n",
              "      <td>6</td>\n",
              "      <td>36</td>\n",
              "      <td>4.540985</td>\n",
              "      <td>0.985220</td>\n",
              "      <td>0.008515</td>\n",
              "      <td>4.712653</td>\n",
              "      <td>3.756893</td>\n",
              "      <td>-0.059998</td>\n",
              "      <td>0.493776</td>\n",
              "      <td>...</td>\n",
              "      <td>4.928745</td>\n",
              "      <td>-0.938709</td>\n",
              "      <td>0.963323</td>\n",
              "      <td>-0.332055</td>\n",
              "      <td>4.806711</td>\n",
              "      <td>15.470588</td>\n",
              "      <td>0.772157</td>\n",
              "      <td>0.836041</td>\n",
              "      <td>0.433884</td>\n",
              "      <td>5.175736</td>\n",
              "    </tr>\n",
              "    <tr>\n",
              "      <th>4</th>\n",
              "      <td>2013-01-02</td>\n",
              "      <td>3</td>\n",
              "      <td>48</td>\n",
              "      <td>4.573898</td>\n",
              "      <td>0.982126</td>\n",
              "      <td>0.010618</td>\n",
              "      <td>4.711289</td>\n",
              "      <td>3.754476</td>\n",
              "      <td>0.000000</td>\n",
              "      <td>0.538005</td>\n",
              "      <td>...</td>\n",
              "      <td>4.876785</td>\n",
              "      <td>-0.938709</td>\n",
              "      <td>0.964661</td>\n",
              "      <td>-0.332055</td>\n",
              "      <td>4.773725</td>\n",
              "      <td>15.470588</td>\n",
              "      <td>0.726608</td>\n",
              "      <td>0.842699</td>\n",
              "      <td>-0.781831</td>\n",
              "      <td>5.164310</td>\n",
              "    </tr>\n",
              "  </tbody>\n",
              "</table>\n",
              "<p>5 rows × 35 columns</p>\n",
              "</div>\n",
              "    <div class=\"colab-df-buttons\">\n",
              "\n",
              "  <div class=\"colab-df-container\">\n",
              "    <button class=\"colab-df-convert\" onclick=\"convertToInteractive('df-212a861b-b3d8-4def-87cf-3d9fcb045760')\"\n",
              "            title=\"Convert this dataframe to an interactive table.\"\n",
              "            style=\"display:none;\">\n",
              "\n",
              "  <svg xmlns=\"http://www.w3.org/2000/svg\" height=\"24px\" viewBox=\"0 -960 960 960\">\n",
              "    <path d=\"M120-120v-720h720v720H120Zm60-500h600v-160H180v160Zm220 220h160v-160H400v160Zm0 220h160v-160H400v160ZM180-400h160v-160H180v160Zm440 0h160v-160H620v160ZM180-180h160v-160H180v160Zm440 0h160v-160H620v160Z\"/>\n",
              "  </svg>\n",
              "    </button>\n",
              "\n",
              "  <style>\n",
              "    .colab-df-container {\n",
              "      display:flex;\n",
              "      gap: 12px;\n",
              "    }\n",
              "\n",
              "    .colab-df-convert {\n",
              "      background-color: #E8F0FE;\n",
              "      border: none;\n",
              "      border-radius: 50%;\n",
              "      cursor: pointer;\n",
              "      display: none;\n",
              "      fill: #1967D2;\n",
              "      height: 32px;\n",
              "      padding: 0 0 0 0;\n",
              "      width: 32px;\n",
              "    }\n",
              "\n",
              "    .colab-df-convert:hover {\n",
              "      background-color: #E2EBFA;\n",
              "      box-shadow: 0px 1px 2px rgba(60, 64, 67, 0.3), 0px 1px 3px 1px rgba(60, 64, 67, 0.15);\n",
              "      fill: #174EA6;\n",
              "    }\n",
              "\n",
              "    .colab-df-buttons div {\n",
              "      margin-bottom: 4px;\n",
              "    }\n",
              "\n",
              "    [theme=dark] .colab-df-convert {\n",
              "      background-color: #3B4455;\n",
              "      fill: #D2E3FC;\n",
              "    }\n",
              "\n",
              "    [theme=dark] .colab-df-convert:hover {\n",
              "      background-color: #434B5C;\n",
              "      box-shadow: 0px 1px 3px 1px rgba(0, 0, 0, 0.15);\n",
              "      filter: drop-shadow(0px 1px 2px rgba(0, 0, 0, 0.3));\n",
              "      fill: #FFFFFF;\n",
              "    }\n",
              "  </style>\n",
              "\n",
              "    <script>\n",
              "      const buttonEl =\n",
              "        document.querySelector('#df-212a861b-b3d8-4def-87cf-3d9fcb045760 button.colab-df-convert');\n",
              "      buttonEl.style.display =\n",
              "        google.colab.kernel.accessAllowed ? 'block' : 'none';\n",
              "\n",
              "      async function convertToInteractive(key) {\n",
              "        const element = document.querySelector('#df-212a861b-b3d8-4def-87cf-3d9fcb045760');\n",
              "        const dataTable =\n",
              "          await google.colab.kernel.invokeFunction('convertToInteractive',\n",
              "                                                    [key], {});\n",
              "        if (!dataTable) return;\n",
              "\n",
              "        const docLinkHtml = 'Like what you see? Visit the ' +\n",
              "          '<a target=\"_blank\" href=https://colab.research.google.com/notebooks/data_table.ipynb>data table notebook</a>'\n",
              "          + ' to learn more about interactive tables.';\n",
              "        element.innerHTML = '';\n",
              "        dataTable['output_type'] = 'display_data';\n",
              "        await google.colab.output.renderOutput(dataTable, element);\n",
              "        const docLink = document.createElement('div');\n",
              "        docLink.innerHTML = docLinkHtml;\n",
              "        element.appendChild(docLink);\n",
              "      }\n",
              "    </script>\n",
              "  </div>\n",
              "\n",
              "\n",
              "<div id=\"df-1b04b6d4-8938-4f11-916c-ac3297286243\">\n",
              "  <button class=\"colab-df-quickchart\" onclick=\"quickchart('df-1b04b6d4-8938-4f11-916c-ac3297286243')\"\n",
              "            title=\"Suggest charts\"\n",
              "            style=\"display:none;\">\n",
              "\n",
              "<svg xmlns=\"http://www.w3.org/2000/svg\" height=\"24px\"viewBox=\"0 0 24 24\"\n",
              "     width=\"24px\">\n",
              "    <g>\n",
              "        <path d=\"M19 3H5c-1.1 0-2 .9-2 2v14c0 1.1.9 2 2 2h14c1.1 0 2-.9 2-2V5c0-1.1-.9-2-2-2zM9 17H7v-7h2v7zm4 0h-2V7h2v10zm4 0h-2v-4h2v4z\"/>\n",
              "    </g>\n",
              "</svg>\n",
              "  </button>\n",
              "\n",
              "<style>\n",
              "  .colab-df-quickchart {\n",
              "      --bg-color: #E8F0FE;\n",
              "      --fill-color: #1967D2;\n",
              "      --hover-bg-color: #E2EBFA;\n",
              "      --hover-fill-color: #174EA6;\n",
              "      --disabled-fill-color: #AAA;\n",
              "      --disabled-bg-color: #DDD;\n",
              "  }\n",
              "\n",
              "  [theme=dark] .colab-df-quickchart {\n",
              "      --bg-color: #3B4455;\n",
              "      --fill-color: #D2E3FC;\n",
              "      --hover-bg-color: #434B5C;\n",
              "      --hover-fill-color: #FFFFFF;\n",
              "      --disabled-bg-color: #3B4455;\n",
              "      --disabled-fill-color: #666;\n",
              "  }\n",
              "\n",
              "  .colab-df-quickchart {\n",
              "    background-color: var(--bg-color);\n",
              "    border: none;\n",
              "    border-radius: 50%;\n",
              "    cursor: pointer;\n",
              "    display: none;\n",
              "    fill: var(--fill-color);\n",
              "    height: 32px;\n",
              "    padding: 0;\n",
              "    width: 32px;\n",
              "  }\n",
              "\n",
              "  .colab-df-quickchart:hover {\n",
              "    background-color: var(--hover-bg-color);\n",
              "    box-shadow: 0 1px 2px rgba(60, 64, 67, 0.3), 0 1px 3px 1px rgba(60, 64, 67, 0.15);\n",
              "    fill: var(--button-hover-fill-color);\n",
              "  }\n",
              "\n",
              "  .colab-df-quickchart-complete:disabled,\n",
              "  .colab-df-quickchart-complete:disabled:hover {\n",
              "    background-color: var(--disabled-bg-color);\n",
              "    fill: var(--disabled-fill-color);\n",
              "    box-shadow: none;\n",
              "  }\n",
              "\n",
              "  .colab-df-spinner {\n",
              "    border: 2px solid var(--fill-color);\n",
              "    border-color: transparent;\n",
              "    border-bottom-color: var(--fill-color);\n",
              "    animation:\n",
              "      spin 1s steps(1) infinite;\n",
              "  }\n",
              "\n",
              "  @keyframes spin {\n",
              "    0% {\n",
              "      border-color: transparent;\n",
              "      border-bottom-color: var(--fill-color);\n",
              "      border-left-color: var(--fill-color);\n",
              "    }\n",
              "    20% {\n",
              "      border-color: transparent;\n",
              "      border-left-color: var(--fill-color);\n",
              "      border-top-color: var(--fill-color);\n",
              "    }\n",
              "    30% {\n",
              "      border-color: transparent;\n",
              "      border-left-color: var(--fill-color);\n",
              "      border-top-color: var(--fill-color);\n",
              "      border-right-color: var(--fill-color);\n",
              "    }\n",
              "    40% {\n",
              "      border-color: transparent;\n",
              "      border-right-color: var(--fill-color);\n",
              "      border-top-color: var(--fill-color);\n",
              "    }\n",
              "    60% {\n",
              "      border-color: transparent;\n",
              "      border-right-color: var(--fill-color);\n",
              "    }\n",
              "    80% {\n",
              "      border-color: transparent;\n",
              "      border-right-color: var(--fill-color);\n",
              "      border-bottom-color: var(--fill-color);\n",
              "    }\n",
              "    90% {\n",
              "      border-color: transparent;\n",
              "      border-bottom-color: var(--fill-color);\n",
              "    }\n",
              "  }\n",
              "</style>\n",
              "\n",
              "  <script>\n",
              "    async function quickchart(key) {\n",
              "      const quickchartButtonEl =\n",
              "        document.querySelector('#' + key + ' button');\n",
              "      quickchartButtonEl.disabled = true;  // To prevent multiple clicks.\n",
              "      quickchartButtonEl.classList.add('colab-df-spinner');\n",
              "      try {\n",
              "        const charts = await google.colab.kernel.invokeFunction(\n",
              "            'suggestCharts', [key], {});\n",
              "      } catch (error) {\n",
              "        console.error('Error during call to suggestCharts:', error);\n",
              "      }\n",
              "      quickchartButtonEl.classList.remove('colab-df-spinner');\n",
              "      quickchartButtonEl.classList.add('colab-df-quickchart-complete');\n",
              "    }\n",
              "    (() => {\n",
              "      let quickchartButtonEl =\n",
              "        document.querySelector('#df-1b04b6d4-8938-4f11-916c-ac3297286243 button');\n",
              "      quickchartButtonEl.style.display =\n",
              "        google.colab.kernel.accessAllowed ? 'block' : 'none';\n",
              "    })();\n",
              "  </script>\n",
              "</div>\n",
              "    </div>\n",
              "  </div>\n"
            ]
          },
          "metadata": {},
          "execution_count": 15
        }
      ]
    },
    {
      "cell_type": "code",
      "source": [
        "#Fitting the model with main dataset\n",
        "model.fit(train_features,train_target)\n",
        "preds = model.predict(test_features)\n",
        "eval_metric(test_target.values,preds,\"SMAPE\")"
      ],
      "metadata": {
        "colab": {
          "base_uri": "https://localhost:8080/"
        },
        "id": "VL2ruSLE2fRN",
        "outputId": "1e68a6f5-6286-42c2-b364-b2b333b6b692"
      },
      "execution_count": 16,
      "outputs": [
        {
          "output_type": "execute_result",
          "data": {
            "text/plain": [
              "[31.607813362079956]"
            ]
          },
          "metadata": {},
          "execution_count": 16
        }
      ]
    },
    {
      "cell_type": "code",
      "source": [
        "#Fitting the model after uploading more data from upgini to main dataset\n",
        "model.fit(enriched_train_features, train_target)\n",
        "enriched_preds = model.predict(enriched_test_features)\n",
        "eval_metric(test_target.values,enriched_preds,\"SMAPE\")"
      ],
      "metadata": {
        "colab": {
          "base_uri": "https://localhost:8080/"
        },
        "id": "TQgGreii3obB",
        "outputId": "5c2689a0-c909-4c7b-aa6e-e00d40ea2df4"
      },
      "execution_count": 17,
      "outputs": [
        {
          "output_type": "execute_result",
          "data": {
            "text/plain": [
              "[15.85416769097134]"
            ]
          },
          "metadata": {},
          "execution_count": 17
        }
      ]
    },
    {
      "cell_type": "markdown",
      "source": [
        "Now we can see that dataset after uploading more data into from upgini presenting more good resul\n"
      ],
      "metadata": {
        "id": "nOS4Glv32B_c"
      }
    }
  ]
}